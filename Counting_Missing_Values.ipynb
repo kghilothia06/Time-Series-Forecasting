{
  "nbformat": 4,
  "nbformat_minor": 0,
  "metadata": {
    "colab": {
      "name": "Counting-Missing-Values.ipynb",
      "provenance": [],
      "authorship_tag": "ABX9TyMsrU0bditYtJ/M02NUdSLv",
      "include_colab_link": true
    },
    "kernelspec": {
      "name": "python3",
      "display_name": "Python 3"
    },
    "language_info": {
      "name": "python"
    }
  },
  "cells": [
    {
      "cell_type": "markdown",
      "metadata": {
        "id": "view-in-github",
        "colab_type": "text"
      },
      "source": [
        "<a href=\"https://colab.research.google.com/github/kghilothia06/Time-Series-Forecasting/blob/main/Counting_Missing_Values.ipynb\" target=\"_parent\"><img src=\"https://colab.research.google.com/assets/colab-badge.svg\" alt=\"Open In Colab\"/></a>"
      ]
    },
    {
      "cell_type": "code",
      "metadata": {
        "id": "w7fmx7_EZ9V8"
      },
      "source": [
        "import pandas as pd\n",
        "import numpy as np\n",
        "import matplotlib.pyplot as plt\n"
      ],
      "execution_count": 1,
      "outputs": []
    },
    {
      "cell_type": "markdown",
      "metadata": {
        "id": "HLr_M8GAa0mT"
      },
      "source": [
        "EDA"
      ]
    },
    {
      "cell_type": "code",
      "metadata": {
        "id": "9xU1mAZsaOXc"
      },
      "source": [
        "df = pd.read_csv('/content/2000_Customers.csv')"
      ],
      "execution_count": 2,
      "outputs": []
    },
    {
      "cell_type": "code",
      "metadata": {
        "colab": {
          "base_uri": "https://localhost:8080/",
          "height": 241
        },
        "id": "epAztbjeaSX6",
        "outputId": "b1284cc7-2148-474f-afd1-0b713d0b0e5c"
      },
      "source": [
        "df.head()"
      ],
      "execution_count": 3,
      "outputs": [
        {
          "output_type": "execute_result",
          "data": {
            "text/html": [
              "<div>\n",
              "<style scoped>\n",
              "    .dataframe tbody tr th:only-of-type {\n",
              "        vertical-align: middle;\n",
              "    }\n",
              "\n",
              "    .dataframe tbody tr th {\n",
              "        vertical-align: top;\n",
              "    }\n",
              "\n",
              "    .dataframe thead th {\n",
              "        text-align: right;\n",
              "    }\n",
              "</style>\n",
              "<table border=\"1\" class=\"dataframe\">\n",
              "  <thead>\n",
              "    <tr style=\"text-align: right;\">\n",
              "      <th></th>\n",
              "      <th>customer_id</th>\n",
              "      <th>Country</th>\n",
              "      <th>size</th>\n",
              "      <th>status1</th>\n",
              "      <th>status2</th>\n",
              "      <th>employees</th>\n",
              "      <th>score_A1</th>\n",
              "      <th>score_HR1</th>\n",
              "      <th>score_A</th>\n",
              "      <th>score_HR</th>\n",
              "      <th>parent_id</th>\n",
              "      <th>parent_country</th>\n",
              "      <th>parent_size</th>\n",
              "      <th>parent_status1</th>\n",
              "      <th>parent_status2</th>\n",
              "    </tr>\n",
              "  </thead>\n",
              "  <tbody>\n",
              "    <tr>\n",
              "      <th>0</th>\n",
              "      <td>18123858</td>\n",
              "      <td>India</td>\n",
              "      <td>small</td>\n",
              "      <td>Unavailable</td>\n",
              "      <td>CTI</td>\n",
              "      <td>31</td>\n",
              "      <td>NaN</td>\n",
              "      <td>NaN</td>\n",
              "      <td>0.0</td>\n",
              "      <td>Unavailable</td>\n",
              "      <td>1171354</td>\n",
              "      <td>India</td>\n",
              "      <td>medium</td>\n",
              "      <td>Unavailable</td>\n",
              "      <td>CWSW</td>\n",
              "    </tr>\n",
              "    <tr>\n",
              "      <th>1</th>\n",
              "      <td>24375238</td>\n",
              "      <td>India</td>\n",
              "      <td>medium</td>\n",
              "      <td>New Contact</td>\n",
              "      <td>NCWT</td>\n",
              "      <td>215</td>\n",
              "      <td>2H</td>\n",
              "      <td>2H</td>\n",
              "      <td>17.6</td>\n",
              "      <td>Unavailable</td>\n",
              "      <td>20862273</td>\n",
              "      <td>India</td>\n",
              "      <td>medium</td>\n",
              "      <td>Unavailable</td>\n",
              "      <td>CWSW</td>\n",
              "    </tr>\n",
              "    <tr>\n",
              "      <th>2</th>\n",
              "      <td>1138485</td>\n",
              "      <td>Singapore</td>\n",
              "      <td>small</td>\n",
              "      <td>Unavailable</td>\n",
              "      <td>CTI</td>\n",
              "      <td>44</td>\n",
              "      <td>3I</td>\n",
              "      <td>3I</td>\n",
              "      <td>10.8</td>\n",
              "      <td>Unavailable</td>\n",
              "      <td>1169889</td>\n",
              "      <td>India</td>\n",
              "      <td>medium</td>\n",
              "      <td>Unavailable</td>\n",
              "      <td>CWSW</td>\n",
              "    </tr>\n",
              "    <tr>\n",
              "      <th>3</th>\n",
              "      <td>7256988</td>\n",
              "      <td>India</td>\n",
              "      <td>large</td>\n",
              "      <td>Active</td>\n",
              "      <td>CTI</td>\n",
              "      <td>7</td>\n",
              "      <td>NaN</td>\n",
              "      <td>NaN</td>\n",
              "      <td>NaN</td>\n",
              "      <td>Unavailable</td>\n",
              "      <td>20932972</td>\n",
              "      <td>India</td>\n",
              "      <td>medium</td>\n",
              "      <td>Unavailable</td>\n",
              "      <td>CWSW</td>\n",
              "    </tr>\n",
              "    <tr>\n",
              "      <th>4</th>\n",
              "      <td>23859447</td>\n",
              "      <td>Singapore</td>\n",
              "      <td>large</td>\n",
              "      <td>Active</td>\n",
              "      <td>NaN</td>\n",
              "      <td>20</td>\n",
              "      <td>4N</td>\n",
              "      <td>4N</td>\n",
              "      <td>30.6</td>\n",
              "      <td>Unavailable</td>\n",
              "      <td>8722151</td>\n",
              "      <td>Bangladesh</td>\n",
              "      <td>medium</td>\n",
              "      <td>Unavailable</td>\n",
              "      <td>CWSW</td>\n",
              "    </tr>\n",
              "  </tbody>\n",
              "</table>\n",
              "</div>"
            ],
            "text/plain": [
              "   customer_id    Country    size  ... parent_size parent_status1  parent_status2\n",
              "0     18123858      India   small  ...      medium    Unavailable            CWSW\n",
              "1     24375238      India  medium  ...      medium    Unavailable            CWSW\n",
              "2      1138485  Singapore   small  ...      medium    Unavailable            CWSW\n",
              "3      7256988      India   large  ...      medium    Unavailable            CWSW\n",
              "4     23859447  Singapore   large  ...      medium    Unavailable            CWSW\n",
              "\n",
              "[5 rows x 15 columns]"
            ]
          },
          "metadata": {},
          "execution_count": 3
        }
      ]
    },
    {
      "cell_type": "code",
      "metadata": {
        "colab": {
          "base_uri": "https://localhost:8080/"
        },
        "id": "Y_naP7QNaTIe",
        "outputId": "22ba05f3-911b-4449-ecd7-c942f74a7ecc"
      },
      "source": [
        "df.info()\n"
      ],
      "execution_count": 4,
      "outputs": [
        {
          "output_type": "stream",
          "name": "stdout",
          "text": [
            "<class 'pandas.core.frame.DataFrame'>\n",
            "RangeIndex: 2000 entries, 0 to 1999\n",
            "Data columns (total 15 columns):\n",
            " #   Column          Non-Null Count  Dtype  \n",
            "---  ------          --------------  -----  \n",
            " 0   customer_id     2000 non-null   int64  \n",
            " 1   Country         2000 non-null   object \n",
            " 2   size            2000 non-null   object \n",
            " 3   status1         2000 non-null   object \n",
            " 4   status2         1088 non-null   object \n",
            " 5   employees       2000 non-null   int64  \n",
            " 6   score_A1        580 non-null    object \n",
            " 7   score_HR1       580 non-null    object \n",
            " 8   score_A         1338 non-null   float64\n",
            " 9   score_HR        2000 non-null   object \n",
            " 10  parent_id       2000 non-null   int64  \n",
            " 11  parent_country  1572 non-null   object \n",
            " 12  parent_size     2000 non-null   object \n",
            " 13  parent_status1  2000 non-null   object \n",
            " 14  parent_status2  2000 non-null   object \n",
            "dtypes: float64(1), int64(3), object(11)\n",
            "memory usage: 234.5+ KB\n"
          ]
        }
      ]
    },
    {
      "cell_type": "code",
      "metadata": {
        "colab": {
          "base_uri": "https://localhost:8080/"
        },
        "id": "3IP9_7bbaUS6",
        "outputId": "b5c6c8d4-3bd9-4e6c-87dc-2b71aa950780"
      },
      "source": [
        "df.shape[0]"
      ],
      "execution_count": 5,
      "outputs": [
        {
          "output_type": "execute_result",
          "data": {
            "text/plain": [
              "2000"
            ]
          },
          "metadata": {},
          "execution_count": 5
        }
      ]
    },
    {
      "cell_type": "markdown",
      "metadata": {
        "id": "1ybuvsT4a2M6"
      },
      "source": [
        "Declare a dictionary to store the reqd things"
      ]
    },
    {
      "cell_type": "code",
      "metadata": {
        "id": "QlLgIr_kaXrq"
      },
      "source": [
        "Record = dict()"
      ],
      "execution_count": 6,
      "outputs": []
    },
    {
      "cell_type": "markdown",
      "metadata": {
        "id": "nWH7xDPVe2Ge"
      },
      "source": [
        "Method to calculate number and percentage of 'Unavailables'"
      ]
    },
    {
      "cell_type": "code",
      "metadata": {
        "id": "_tLjyqC8e1gU"
      },
      "source": [
        "def find_unavailable(column):\n",
        "\n",
        "  Number_unavailable = 0\n",
        "\n",
        "  for val in df[column]:\n",
        "\n",
        "    if str(val) == \"Unavailable\":\n",
        "\n",
        "      Number_unavailable = Number_unavailable + 1\n",
        "\n",
        "\n",
        "  Percentage_unavailable = (Number_unavailable / df.shape[0]) * 100\n",
        "\n",
        "  return Number_unavailable, Percentage_unavailable \n"
      ],
      "execution_count": 7,
      "outputs": []
    },
    {
      "cell_type": "markdown",
      "metadata": {
        "id": "Ti6Ti6wNblo0"
      },
      "source": [
        "Calculate no. of NULL entries and percentage"
      ]
    },
    {
      "cell_type": "code",
      "metadata": {
        "id": "bP5jO45hbiZg"
      },
      "source": [
        "for column in df.columns:\n",
        "  \n",
        "  #declare a temporary list\n",
        "  temp_list = []\n",
        "  \n",
        "  #Calculate number & percentage of unavailables\n",
        "  Number_Unavailable, Percentage_Unavailable = find_unavailable(column)\n",
        "\n",
        "  #Calculate number & percentage of Nulls\n",
        "  Number_Nulls = df[column].isnull().sum()\n",
        "  Percentage_Nulls = (Number_Nulls / df.shape[0]) * 100\n",
        "\n",
        "  temp_list.append(Number_Unavailable)\n",
        "  temp_list.append(Percentage_Unavailable)  \n",
        "  temp_list.append(Number_Nulls)\n",
        "  temp_list.append(Percentage_Nulls)\n",
        "\n",
        "  Record[column] = temp_list\n"
      ],
      "execution_count": 8,
      "outputs": []
    },
    {
      "cell_type": "code",
      "metadata": {
        "colab": {
          "base_uri": "https://localhost:8080/"
        },
        "id": "tc6-2vKIb56r",
        "outputId": "676e40b3-2fae-44ac-bb91-ae98ee1b6f1b"
      },
      "source": [
        "Record"
      ],
      "execution_count": 9,
      "outputs": [
        {
          "output_type": "execute_result",
          "data": {
            "text/plain": [
              "{'Country': [26, 1.3, 0, 0.0],\n",
              " 'customer_id': [0, 0.0, 0, 0.0],\n",
              " 'employees': [0, 0.0, 0, 0.0],\n",
              " 'parent_country': [24, 1.2, 428, 21.4],\n",
              " 'parent_id': [0, 0.0, 0, 0.0],\n",
              " 'parent_size': [0, 0.0, 0, 0.0],\n",
              " 'parent_status1': [1056, 52.800000000000004, 0, 0.0],\n",
              " 'parent_status2': [0, 0.0, 0, 0.0],\n",
              " 'score_A': [0, 0.0, 662, 33.1],\n",
              " 'score_A1': [2, 0.1, 1420, 71.0],\n",
              " 'score_HR': [1000, 50.0, 0, 0.0],\n",
              " 'score_HR1': [2, 0.1, 1420, 71.0],\n",
              " 'size': [0, 0.0, 0, 0.0],\n",
              " 'status1': [921, 46.050000000000004, 0, 0.0],\n",
              " 'status2': [0, 0.0, 912, 45.6]}"
            ]
          },
          "metadata": {},
          "execution_count": 9
        }
      ]
    },
    {
      "cell_type": "markdown",
      "metadata": {
        "id": "uSsBj3cFgE8m"
      },
      "source": [
        "Convert to a pandas dataframe"
      ]
    },
    {
      "cell_type": "code",
      "metadata": {
        "id": "piK4AhmWb6l-"
      },
      "source": [
        "Missing_df = pd.DataFrame.from_dict(Record, orient ='index', columns=['Number_Unavailable', 'Percentage_Unavailable', 'Number_Nulls', 'Percentage_Nulls']) \n"
      ],
      "execution_count": 10,
      "outputs": []
    },
    {
      "cell_type": "code",
      "metadata": {
        "colab": {
          "base_uri": "https://localhost:8080/",
          "height": 514
        },
        "id": "8FU60cJMfGlD",
        "outputId": "6823d157-b8cf-4b56-faff-dfeead95a8b6"
      },
      "source": [
        "Missing_df"
      ],
      "execution_count": 11,
      "outputs": [
        {
          "output_type": "execute_result",
          "data": {
            "text/html": [
              "<div>\n",
              "<style scoped>\n",
              "    .dataframe tbody tr th:only-of-type {\n",
              "        vertical-align: middle;\n",
              "    }\n",
              "\n",
              "    .dataframe tbody tr th {\n",
              "        vertical-align: top;\n",
              "    }\n",
              "\n",
              "    .dataframe thead th {\n",
              "        text-align: right;\n",
              "    }\n",
              "</style>\n",
              "<table border=\"1\" class=\"dataframe\">\n",
              "  <thead>\n",
              "    <tr style=\"text-align: right;\">\n",
              "      <th></th>\n",
              "      <th>Number_Unavailable</th>\n",
              "      <th>Percentage_Unavailable</th>\n",
              "      <th>Number_Nulls</th>\n",
              "      <th>Percentage_Nulls</th>\n",
              "    </tr>\n",
              "  </thead>\n",
              "  <tbody>\n",
              "    <tr>\n",
              "      <th>customer_id</th>\n",
              "      <td>0</td>\n",
              "      <td>0.00</td>\n",
              "      <td>0</td>\n",
              "      <td>0.0</td>\n",
              "    </tr>\n",
              "    <tr>\n",
              "      <th>Country</th>\n",
              "      <td>26</td>\n",
              "      <td>1.30</td>\n",
              "      <td>0</td>\n",
              "      <td>0.0</td>\n",
              "    </tr>\n",
              "    <tr>\n",
              "      <th>size</th>\n",
              "      <td>0</td>\n",
              "      <td>0.00</td>\n",
              "      <td>0</td>\n",
              "      <td>0.0</td>\n",
              "    </tr>\n",
              "    <tr>\n",
              "      <th>status1</th>\n",
              "      <td>921</td>\n",
              "      <td>46.05</td>\n",
              "      <td>0</td>\n",
              "      <td>0.0</td>\n",
              "    </tr>\n",
              "    <tr>\n",
              "      <th>status2</th>\n",
              "      <td>0</td>\n",
              "      <td>0.00</td>\n",
              "      <td>912</td>\n",
              "      <td>45.6</td>\n",
              "    </tr>\n",
              "    <tr>\n",
              "      <th>employees</th>\n",
              "      <td>0</td>\n",
              "      <td>0.00</td>\n",
              "      <td>0</td>\n",
              "      <td>0.0</td>\n",
              "    </tr>\n",
              "    <tr>\n",
              "      <th>score_A1</th>\n",
              "      <td>2</td>\n",
              "      <td>0.10</td>\n",
              "      <td>1420</td>\n",
              "      <td>71.0</td>\n",
              "    </tr>\n",
              "    <tr>\n",
              "      <th>score_HR1</th>\n",
              "      <td>2</td>\n",
              "      <td>0.10</td>\n",
              "      <td>1420</td>\n",
              "      <td>71.0</td>\n",
              "    </tr>\n",
              "    <tr>\n",
              "      <th>score_A</th>\n",
              "      <td>0</td>\n",
              "      <td>0.00</td>\n",
              "      <td>662</td>\n",
              "      <td>33.1</td>\n",
              "    </tr>\n",
              "    <tr>\n",
              "      <th>score_HR</th>\n",
              "      <td>1000</td>\n",
              "      <td>50.00</td>\n",
              "      <td>0</td>\n",
              "      <td>0.0</td>\n",
              "    </tr>\n",
              "    <tr>\n",
              "      <th>parent_id</th>\n",
              "      <td>0</td>\n",
              "      <td>0.00</td>\n",
              "      <td>0</td>\n",
              "      <td>0.0</td>\n",
              "    </tr>\n",
              "    <tr>\n",
              "      <th>parent_country</th>\n",
              "      <td>24</td>\n",
              "      <td>1.20</td>\n",
              "      <td>428</td>\n",
              "      <td>21.4</td>\n",
              "    </tr>\n",
              "    <tr>\n",
              "      <th>parent_size</th>\n",
              "      <td>0</td>\n",
              "      <td>0.00</td>\n",
              "      <td>0</td>\n",
              "      <td>0.0</td>\n",
              "    </tr>\n",
              "    <tr>\n",
              "      <th>parent_status1</th>\n",
              "      <td>1056</td>\n",
              "      <td>52.80</td>\n",
              "      <td>0</td>\n",
              "      <td>0.0</td>\n",
              "    </tr>\n",
              "    <tr>\n",
              "      <th>parent_status2</th>\n",
              "      <td>0</td>\n",
              "      <td>0.00</td>\n",
              "      <td>0</td>\n",
              "      <td>0.0</td>\n",
              "    </tr>\n",
              "  </tbody>\n",
              "</table>\n",
              "</div>"
            ],
            "text/plain": [
              "                Number_Unavailable  ...  Percentage_Nulls\n",
              "customer_id                      0  ...               0.0\n",
              "Country                         26  ...               0.0\n",
              "size                             0  ...               0.0\n",
              "status1                        921  ...               0.0\n",
              "status2                          0  ...              45.6\n",
              "employees                        0  ...               0.0\n",
              "score_A1                         2  ...              71.0\n",
              "score_HR1                        2  ...              71.0\n",
              "score_A                          0  ...              33.1\n",
              "score_HR                      1000  ...               0.0\n",
              "parent_id                        0  ...               0.0\n",
              "parent_country                  24  ...              21.4\n",
              "parent_size                      0  ...               0.0\n",
              "parent_status1                1056  ...               0.0\n",
              "parent_status2                   0  ...               0.0\n",
              "\n",
              "[15 rows x 4 columns]"
            ]
          },
          "metadata": {},
          "execution_count": 11
        }
      ]
    },
    {
      "cell_type": "code",
      "metadata": {
        "id": "3JmK7iTmgtkz"
      },
      "source": [
        ""
      ],
      "execution_count": 11,
      "outputs": []
    }
  ]
}