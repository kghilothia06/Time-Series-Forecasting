{
  "nbformat": 4,
  "nbformat_minor": 0,
  "metadata": {
    "colab": {
      "name": "15_6_Graphs.ipynb",
      "provenance": [],
      "authorship_tag": "ABX9TyN1GVMxumMOiTZwWZVmDAmg",
      "include_colab_link": true
    },
    "kernelspec": {
      "name": "python3",
      "display_name": "Python 3"
    },
    "language_info": {
      "name": "python"
    }
  },
  "cells": [
    {
      "cell_type": "markdown",
      "metadata": {
        "id": "view-in-github",
        "colab_type": "text"
      },
      "source": [
        "<a href=\"https://colab.research.google.com/github/kghilothia06/Time-Series-Forecasting/blob/main/15_6_Graphs.ipynb\" target=\"_parent\"><img src=\"https://colab.research.google.com/assets/colab-badge.svg\" alt=\"Open In Colab\"/></a>"
      ]
    },
    {
      "cell_type": "code",
      "metadata": {
        "id": "e0INwfB0Y3Nx"
      },
      "source": [
        "from math import sqrt\n",
        "from numpy import array\n",
        "from numpy import mean\n",
        "from pandas import DataFrame\n",
        "from pandas import concat\n",
        "from pandas import read_csv\n",
        "from sklearn.metrics import mean_squared_error, r2_score\n",
        "import numpy as np\n",
        "import matplotlib.pyplot as plt\n",
        "from keras.models import Sequential\n",
        "from keras.layers import Dense\n",
        "from keras.layers import LSTM"
      ],
      "execution_count": 1,
      "outputs": []
    },
    {
      "cell_type": "code",
      "metadata": {
        "id": "ypbzVt0sZCjq"
      },
      "source": [
        "# split a univariate dataset into train/test sets\n",
        "def train_test_split(data, n_test):\n",
        "  return data[:-n_test], data[-n_test:]"
      ],
      "execution_count": 2,
      "outputs": []
    },
    {
      "cell_type": "code",
      "metadata": {
        "id": "OW1W1OgZZGGA"
      },
      "source": [
        "#transform list into supervised learning format\n",
        "def series_to_supervised(data, n_in, n_out=1):\n",
        "  df = DataFrame(data)\n",
        "  cols = list()\n",
        "  # input sequence (t-n, ... t-1)\n",
        "  for i in range(n_in, 0, -1):\n",
        "    cols.append(df.shift(i))\n",
        "  # forecast sequence (t, t+1, ... t+n)\n",
        "  for i in range(0, n_out):\n",
        "    cols.append(df.shift(-i))\n",
        "  # put it all together\n",
        "  agg = concat(cols, axis=1)\n",
        "  # drop rows with NaN values\n",
        "  agg.dropna(inplace=True)\n",
        "  return agg.values"
      ],
      "execution_count": 3,
      "outputs": []
    },
    {
      "cell_type": "code",
      "metadata": {
        "id": "wvZZYnFzZWWU"
      },
      "source": [
        "# difference dataset\n",
        "def difference(data, order):\n",
        "  return [data[i] - data[i - order] for i in range(order, len(data))]"
      ],
      "execution_count": 4,
      "outputs": []
    },
    {
      "cell_type": "code",
      "metadata": {
        "id": "uUTvWj8VZZKj"
      },
      "source": [
        "# fit a model\n",
        "def model_fit(train, config):\n",
        "  # unpack config\n",
        "  n_input, n_nodes, n_epochs, n_batch, n_diff = config\n",
        "  # prepare data\n",
        "  if n_diff > 0:\n",
        "    train = difference(train, n_diff)\n",
        "  # transform series into supervised format\n",
        "  data = series_to_supervised(train, n_in=n_input)\n",
        "  # separate inputs and outputs\n",
        "  train_x, train_y = data[:, :-1], data[:, -1]\n",
        "  # reshape input data into [samples, timesteps, features]\n",
        "  n_features = 1\n",
        "  train_x = train_x.reshape((train_x.shape[0], train_x.shape[1], n_features))\n",
        "  # define model\n",
        "  model = Sequential()\n",
        "  model.add(LSTM(n_nodes, activation='relu', input_shape=(n_input, n_features)))\n",
        "  model.add(Dense(n_nodes, activation='relu'))\n",
        "  model.add(Dense(1))\n",
        "  model.compile(loss='mse', optimizer='adam')\n",
        "  # fit model\n",
        "  model.fit(train_x, train_y, epochs=n_epochs, batch_size=n_batch, verbose=0)\n",
        "  return model"
      ],
      "execution_count": 5,
      "outputs": []
    },
    {
      "cell_type": "code",
      "metadata": {
        "id": "60s4qUUzZgoB"
      },
      "source": [
        "# forecast with the fit model\n",
        "def model_predict(model, history, config):\n",
        "  # unpack config\n",
        "  n_input, _, _, _, n_diff = config\n",
        "  # prepare data\n",
        "  correction = 0.0\n",
        "  if n_diff > 0:\n",
        "    correction = history[-n_diff]\n",
        "\n",
        "  history = difference(history, n_diff)\n",
        "  # reshape sample into [samples, timesteps, features]\n",
        "  x_input = array(history[-n_input:]).reshape((1, n_input, 1))\n",
        "  # forecast\n",
        "  yhat = model.predict(x_input, verbose=0)\n",
        "\n",
        "  return abs(correction + yhat[0])"
      ],
      "execution_count": 6,
      "outputs": []
    },
    {
      "cell_type": "code",
      "metadata": {
        "id": "FwtzhnkNZuPB"
      },
      "source": [
        "# make predictions on test data\n",
        "def make_predictions(train, test, model, cfg):\n",
        "  predictions = list()\n",
        "  \n",
        "  # seed history with training dataset\n",
        "  history = [x for x in train]\n",
        "\n",
        "  # step over each time-step in the test set\n",
        "  for i in range(len(test)):\n",
        "    \n",
        "    # fit model and make forecast for history\n",
        "    yhat = model_predict(model, history, cfg)\n",
        "    # store forecast in list of predictions\n",
        "    predictions.append(yhat[0])\n",
        "    # add predicted observation to history for the next loop\n",
        "    history.append(yhat)\n",
        "\n",
        "\n",
        "  return predictions"
      ],
      "execution_count": 7,
      "outputs": []
    },
    {
      "cell_type": "markdown",
      "metadata": {
        "id": "74vlYJhoaeBS"
      },
      "source": [
        "Read dataset"
      ]
    },
    {
      "cell_type": "code",
      "metadata": {
        "id": "2-lcjt9tadwH"
      },
      "source": [
        "df = read_csv('/content/RevenueJuly.csv')\n",
        "series = DataFrame(df['Revenue'])"
      ],
      "execution_count": 8,
      "outputs": []
    },
    {
      "cell_type": "code",
      "metadata": {
        "colab": {
          "base_uri": "https://localhost:8080/",
          "height": 1000
        },
        "id": "VoJo8X5EadsD",
        "outputId": "43b5562f-0864-4967-a41a-b6babeac39d0"
      },
      "source": [
        "series"
      ],
      "execution_count": 9,
      "outputs": [
        {
          "output_type": "execute_result",
          "data": {
            "text/html": [
              "<div>\n",
              "<style scoped>\n",
              "    .dataframe tbody tr th:only-of-type {\n",
              "        vertical-align: middle;\n",
              "    }\n",
              "\n",
              "    .dataframe tbody tr th {\n",
              "        vertical-align: top;\n",
              "    }\n",
              "\n",
              "    .dataframe thead th {\n",
              "        text-align: right;\n",
              "    }\n",
              "</style>\n",
              "<table border=\"1\" class=\"dataframe\">\n",
              "  <thead>\n",
              "    <tr style=\"text-align: right;\">\n",
              "      <th></th>\n",
              "      <th>Revenue</th>\n",
              "    </tr>\n",
              "  </thead>\n",
              "  <tbody>\n",
              "    <tr>\n",
              "      <th>0</th>\n",
              "      <td>11141.566</td>\n",
              "    </tr>\n",
              "    <tr>\n",
              "      <th>1</th>\n",
              "      <td>11483.520</td>\n",
              "    </tr>\n",
              "    <tr>\n",
              "      <th>2</th>\n",
              "      <td>89026.192</td>\n",
              "    </tr>\n",
              "    <tr>\n",
              "      <th>3</th>\n",
              "      <td>7486.732</td>\n",
              "    </tr>\n",
              "    <tr>\n",
              "      <th>4</th>\n",
              "      <td>17719.978</td>\n",
              "    </tr>\n",
              "    <tr>\n",
              "      <th>5</th>\n",
              "      <td>159129.659</td>\n",
              "    </tr>\n",
              "    <tr>\n",
              "      <th>6</th>\n",
              "      <td>16736.302</td>\n",
              "    </tr>\n",
              "    <tr>\n",
              "      <th>7</th>\n",
              "      <td>25432.066</td>\n",
              "    </tr>\n",
              "    <tr>\n",
              "      <th>8</th>\n",
              "      <td>145620.785</td>\n",
              "    </tr>\n",
              "    <tr>\n",
              "      <th>9</th>\n",
              "      <td>24954.743</td>\n",
              "    </tr>\n",
              "    <tr>\n",
              "      <th>10</th>\n",
              "      <td>42440.281</td>\n",
              "    </tr>\n",
              "    <tr>\n",
              "      <th>11</th>\n",
              "      <td>389795.301</td>\n",
              "    </tr>\n",
              "    <tr>\n",
              "      <th>12</th>\n",
              "      <td>10851.367</td>\n",
              "    </tr>\n",
              "    <tr>\n",
              "      <th>13</th>\n",
              "      <td>15156.590</td>\n",
              "    </tr>\n",
              "    <tr>\n",
              "      <th>14</th>\n",
              "      <td>92459.405</td>\n",
              "    </tr>\n",
              "    <tr>\n",
              "      <th>15</th>\n",
              "      <td>18964.489</td>\n",
              "    </tr>\n",
              "    <tr>\n",
              "      <th>16</th>\n",
              "      <td>27080.474</td>\n",
              "    </tr>\n",
              "    <tr>\n",
              "      <th>17</th>\n",
              "      <td>156189.554</td>\n",
              "    </tr>\n",
              "    <tr>\n",
              "      <th>18</th>\n",
              "      <td>22733.732</td>\n",
              "    </tr>\n",
              "    <tr>\n",
              "      <th>19</th>\n",
              "      <td>19094.521</td>\n",
              "    </tr>\n",
              "    <tr>\n",
              "      <th>20</th>\n",
              "      <td>119631.548</td>\n",
              "    </tr>\n",
              "    <tr>\n",
              "      <th>21</th>\n",
              "      <td>21636.455</td>\n",
              "    </tr>\n",
              "    <tr>\n",
              "      <th>22</th>\n",
              "      <td>64590.779</td>\n",
              "    </tr>\n",
              "    <tr>\n",
              "      <th>23</th>\n",
              "      <td>303152.060</td>\n",
              "    </tr>\n",
              "    <tr>\n",
              "      <th>24</th>\n",
              "      <td>12594.348</td>\n",
              "    </tr>\n",
              "    <tr>\n",
              "      <th>25</th>\n",
              "      <td>24780.076</td>\n",
              "    </tr>\n",
              "    <tr>\n",
              "      <th>26</th>\n",
              "      <td>116146.579</td>\n",
              "    </tr>\n",
              "    <tr>\n",
              "      <th>27</th>\n",
              "      <td>32970.437</td>\n",
              "    </tr>\n",
              "    <tr>\n",
              "      <th>28</th>\n",
              "      <td>48772.300</td>\n",
              "    </tr>\n",
              "    <tr>\n",
              "      <th>29</th>\n",
              "      <td>285241.258</td>\n",
              "    </tr>\n",
              "    <tr>\n",
              "      <th>30</th>\n",
              "      <td>27898.503</td>\n",
              "    </tr>\n",
              "    <tr>\n",
              "      <th>31</th>\n",
              "      <td>51343.677</td>\n",
              "    </tr>\n",
              "    <tr>\n",
              "      <th>32</th>\n",
              "      <td>244466.379</td>\n",
              "    </tr>\n",
              "    <tr>\n",
              "      <th>33</th>\n",
              "      <td>34864.443</td>\n",
              "    </tr>\n",
              "    <tr>\n",
              "      <th>34</th>\n",
              "      <td>73066.245</td>\n",
              "    </tr>\n",
              "    <tr>\n",
              "      <th>35</th>\n",
              "      <td>724737.205</td>\n",
              "    </tr>\n",
              "    <tr>\n",
              "      <th>36</th>\n",
              "      <td>16301.221</td>\n",
              "    </tr>\n",
              "    <tr>\n",
              "      <th>37</th>\n",
              "      <td>19769.781</td>\n",
              "    </tr>\n",
              "    <tr>\n",
              "      <th>38</th>\n",
              "      <td>119442.079</td>\n",
              "    </tr>\n",
              "    <tr>\n",
              "      <th>39</th>\n",
              "      <td>18721.319</td>\n",
              "    </tr>\n",
              "    <tr>\n",
              "      <th>40</th>\n",
              "      <td>30299.276</td>\n",
              "    </tr>\n",
              "    <tr>\n",
              "      <th>41</th>\n",
              "      <td>226961.657</td>\n",
              "    </tr>\n",
              "    <tr>\n",
              "      <th>42</th>\n",
              "      <td>25759.943</td>\n",
              "    </tr>\n",
              "    <tr>\n",
              "      <th>43</th>\n",
              "      <td>35032.793</td>\n",
              "    </tr>\n",
              "    <tr>\n",
              "      <th>44</th>\n",
              "      <td>147118.567</td>\n",
              "    </tr>\n",
              "    <tr>\n",
              "      <th>45</th>\n",
              "      <td>43656.223</td>\n",
              "    </tr>\n",
              "    <tr>\n",
              "      <th>46</th>\n",
              "      <td>54935.815</td>\n",
              "    </tr>\n",
              "    <tr>\n",
              "      <th>47</th>\n",
              "      <td>519504.737</td>\n",
              "    </tr>\n",
              "    <tr>\n",
              "      <th>48</th>\n",
              "      <td>16507.335</td>\n",
              "    </tr>\n",
              "    <tr>\n",
              "      <th>49</th>\n",
              "      <td>55265.293</td>\n",
              "    </tr>\n",
              "    <tr>\n",
              "      <th>50</th>\n",
              "      <td>132267.597</td>\n",
              "    </tr>\n",
              "    <tr>\n",
              "      <th>51</th>\n",
              "      <td>20550.787</td>\n",
              "    </tr>\n",
              "    <tr>\n",
              "      <th>52</th>\n",
              "      <td>45757.982</td>\n",
              "    </tr>\n",
              "    <tr>\n",
              "      <th>53</th>\n",
              "      <td>183715.237</td>\n",
              "    </tr>\n",
              "    <tr>\n",
              "      <th>54</th>\n",
              "      <td>74225.599</td>\n",
              "    </tr>\n",
              "  </tbody>\n",
              "</table>\n",
              "</div>"
            ],
            "text/plain": [
              "       Revenue\n",
              "0    11141.566\n",
              "1    11483.520\n",
              "2    89026.192\n",
              "3     7486.732\n",
              "4    17719.978\n",
              "5   159129.659\n",
              "6    16736.302\n",
              "7    25432.066\n",
              "8   145620.785\n",
              "9    24954.743\n",
              "10   42440.281\n",
              "11  389795.301\n",
              "12   10851.367\n",
              "13   15156.590\n",
              "14   92459.405\n",
              "15   18964.489\n",
              "16   27080.474\n",
              "17  156189.554\n",
              "18   22733.732\n",
              "19   19094.521\n",
              "20  119631.548\n",
              "21   21636.455\n",
              "22   64590.779\n",
              "23  303152.060\n",
              "24   12594.348\n",
              "25   24780.076\n",
              "26  116146.579\n",
              "27   32970.437\n",
              "28   48772.300\n",
              "29  285241.258\n",
              "30   27898.503\n",
              "31   51343.677\n",
              "32  244466.379\n",
              "33   34864.443\n",
              "34   73066.245\n",
              "35  724737.205\n",
              "36   16301.221\n",
              "37   19769.781\n",
              "38  119442.079\n",
              "39   18721.319\n",
              "40   30299.276\n",
              "41  226961.657\n",
              "42   25759.943\n",
              "43   35032.793\n",
              "44  147118.567\n",
              "45   43656.223\n",
              "46   54935.815\n",
              "47  519504.737\n",
              "48   16507.335\n",
              "49   55265.293\n",
              "50  132267.597\n",
              "51   20550.787\n",
              "52   45757.982\n",
              "53  183715.237\n",
              "54   74225.599"
            ]
          },
          "metadata": {},
          "execution_count": 9
        }
      ]
    },
    {
      "cell_type": "code",
      "metadata": {
        "id": "3ltnCQf7adqI"
      },
      "source": [
        "data = series.values"
      ],
      "execution_count": 10,
      "outputs": []
    },
    {
      "cell_type": "code",
      "metadata": {
        "id": "kOStJdqZatp3"
      },
      "source": [
        "#perform train-test split\n",
        "n_test = 7\n",
        "train , test = train_test_split(data,n_test)"
      ],
      "execution_count": 11,
      "outputs": []
    },
    {
      "cell_type": "code",
      "metadata": {
        "colab": {
          "base_uri": "https://localhost:8080/"
        },
        "id": "soppJY2Ha1ke",
        "outputId": "88aa63de-1490-485b-95df-e294a542141c"
      },
      "source": [
        "train.shape , test.shape"
      ],
      "execution_count": 12,
      "outputs": [
        {
          "output_type": "execute_result",
          "data": {
            "text/plain": [
              "((48, 1), (7, 1))"
            ]
          },
          "metadata": {},
          "execution_count": 12
        }
      ]
    },
    {
      "cell_type": "code",
      "metadata": {
        "id": "p6gUjIIPZ63n"
      },
      "source": [
        "#define model configuration\n",
        "n_input = 4\n",
        "n_nodes = 50\n",
        "n_epochs = 20\n",
        "n_batch = 12\n",
        "n_diff = 12\n",
        "config = [n_input, n_nodes, n_epochs, n_batch, n_diff]"
      ],
      "execution_count": 13,
      "outputs": []
    },
    {
      "cell_type": "code",
      "metadata": {
        "id": "WgnVifEra1hf"
      },
      "source": [
        "# build and fit model\n",
        "model = model_fit(train, config)"
      ],
      "execution_count": 14,
      "outputs": []
    },
    {
      "cell_type": "code",
      "metadata": {
        "id": "F_i4_KXea1fT"
      },
      "source": [
        "# make predictions\n",
        "predictions = make_predictions(train, test, model, config)"
      ],
      "execution_count": 15,
      "outputs": []
    },
    {
      "cell_type": "code",
      "metadata": {
        "colab": {
          "base_uri": "https://localhost:8080/"
        },
        "id": "gSlYhHFMb4M2",
        "outputId": "9807e0d3-8a61-45c1-8a7b-a1cd5423ba75"
      },
      "source": [
        "#Evaluate Model using r2_score and RMSE\n",
        "MSE = mean_squared_error(test, predictions)\n",
        "RMSE = int(sqrt(MSE))\n",
        "R2 = r2_score(test,predictions)\n",
        "print('RMSE : ' + str(RMSE))\n",
        "print('R square : ' + str(R2))"
      ],
      "execution_count": 16,
      "outputs": [
        {
          "output_type": "stream",
          "text": [
            "RMSE : 33591\n",
            "R square : 0.6524652445915203\n"
          ],
          "name": "stdout"
        }
      ]
    },
    {
      "cell_type": "code",
      "metadata": {
        "colab": {
          "base_uri": "https://localhost:8080/"
        },
        "id": "g8hrLJTQb_HZ",
        "outputId": "b0aca6b0-c099-4090-ba31-81a3de421ca5"
      },
      "source": [
        "predictions"
      ],
      "execution_count": 17,
      "outputs": [
        {
          "output_type": "execute_result",
          "data": {
            "text/plain": [
              "[1927.3512656249986,\n",
              " 11750.563714843753,\n",
              " 97573.162984375,\n",
              " 15456.143951171875,\n",
              " 26116.99523828125,\n",
              " 225433.05104296876,\n",
              " 24860.003607910156]"
            ]
          },
          "metadata": {},
          "execution_count": 17
        }
      ]
    },
    {
      "cell_type": "code",
      "metadata": {
        "colab": {
          "base_uri": "https://localhost:8080/"
        },
        "id": "96z03huYcQcW",
        "outputId": "662f4d08-7327-4847-d48e-ccbbf72d830d"
      },
      "source": [
        "test"
      ],
      "execution_count": 18,
      "outputs": [
        {
          "output_type": "execute_result",
          "data": {
            "text/plain": [
              "array([[ 16507.335],\n",
              "       [ 55265.293],\n",
              "       [132267.597],\n",
              "       [ 20550.787],\n",
              "       [ 45757.982],\n",
              "       [183715.237],\n",
              "       [ 74225.599]])"
            ]
          },
          "metadata": {},
          "execution_count": 18
        }
      ]
    },
    {
      "cell_type": "markdown",
      "metadata": {
        "id": "5E9LBweEc3xh"
      },
      "source": [
        "Add Graph"
      ]
    },
    {
      "cell_type": "code",
      "metadata": {
        "id": "181TgOqycWKT"
      },
      "source": [
        "#set x axis labels\n",
        "vis = dict()\n",
        "\n",
        "x_axis_label = []\n",
        "\n",
        "for cur_year in df['Year']:\n",
        "  if str(cur_year) not in vis.keys():\n",
        "    vis[str(cur_year)] = 1\n",
        "    x_axis_label.append(str(cur_year))\n",
        "  \n",
        "  else:\n",
        "    x_axis_label.append('')\n",
        "  "
      ],
      "execution_count": 19,
      "outputs": []
    },
    {
      "cell_type": "code",
      "metadata": {
        "colab": {
          "base_uri": "https://localhost:8080/"
        },
        "id": "vO9mUb_XdAWZ",
        "outputId": "23a8534f-b99f-4666-e93b-b3ba6726fa46"
      },
      "source": [
        "x_axis_label"
      ],
      "execution_count": 20,
      "outputs": [
        {
          "output_type": "execute_result",
          "data": {
            "text/plain": [
              "['2017',\n",
              " '',\n",
              " '',\n",
              " '',\n",
              " '',\n",
              " '',\n",
              " '',\n",
              " '',\n",
              " '',\n",
              " '',\n",
              " '',\n",
              " '',\n",
              " '2018',\n",
              " '',\n",
              " '',\n",
              " '',\n",
              " '',\n",
              " '',\n",
              " '',\n",
              " '',\n",
              " '',\n",
              " '',\n",
              " '',\n",
              " '',\n",
              " '2019',\n",
              " '',\n",
              " '',\n",
              " '',\n",
              " '',\n",
              " '',\n",
              " '',\n",
              " '',\n",
              " '',\n",
              " '',\n",
              " '',\n",
              " '',\n",
              " '2020',\n",
              " '',\n",
              " '',\n",
              " '',\n",
              " '',\n",
              " '',\n",
              " '',\n",
              " '',\n",
              " '',\n",
              " '',\n",
              " '',\n",
              " '',\n",
              " '2021',\n",
              " '',\n",
              " '',\n",
              " '',\n",
              " '',\n",
              " '',\n",
              " '']"
            ]
          },
          "metadata": {},
          "execution_count": 20
        }
      ]
    },
    {
      "cell_type": "markdown",
      "metadata": {
        "id": "XkXv0KA8dGSZ"
      },
      "source": [
        "Specify dates"
      ]
    },
    {
      "cell_type": "code",
      "metadata": {
        "colab": {
          "base_uri": "https://localhost:8080/"
        },
        "id": "Ycm3ActZdBG-",
        "outputId": "c18eb296-a125-41d5-8ae2-14167be2d6ad"
      },
      "source": [
        "dates_train = []\n",
        "for i in range(len(df)-n_test):\n",
        "  dates_train.append( str(df['Year'][i]) + \"-\" + str(df['Month'][i]) )\n",
        "\n",
        "dates_train"
      ],
      "execution_count": 21,
      "outputs": [
        {
          "output_type": "execute_result",
          "data": {
            "text/plain": [
              "['2017-1',\n",
              " '2017-2',\n",
              " '2017-3',\n",
              " '2017-4',\n",
              " '2017-5',\n",
              " '2017-6',\n",
              " '2017-7',\n",
              " '2017-8',\n",
              " '2017-9',\n",
              " '2017-10',\n",
              " '2017-11',\n",
              " '2017-12',\n",
              " '2018-1',\n",
              " '2018-2',\n",
              " '2018-3',\n",
              " '2018-4',\n",
              " '2018-5',\n",
              " '2018-6',\n",
              " '2018-7',\n",
              " '2018-8',\n",
              " '2018-9',\n",
              " '2018-10',\n",
              " '2018-11',\n",
              " '2018-12',\n",
              " '2019-1',\n",
              " '2019-2',\n",
              " '2019-3',\n",
              " '2019-4',\n",
              " '2019-5',\n",
              " '2019-6',\n",
              " '2019-7',\n",
              " '2019-8',\n",
              " '2019-9',\n",
              " '2019-10',\n",
              " '2019-11',\n",
              " '2019-12',\n",
              " '2020-1',\n",
              " '2020-2',\n",
              " '2020-3',\n",
              " '2020-4',\n",
              " '2020-5',\n",
              " '2020-6',\n",
              " '2020-7',\n",
              " '2020-8',\n",
              " '2020-9',\n",
              " '2020-10',\n",
              " '2020-11',\n",
              " '2020-12']"
            ]
          },
          "metadata": {},
          "execution_count": 21
        }
      ]
    },
    {
      "cell_type": "code",
      "metadata": {
        "colab": {
          "base_uri": "https://localhost:8080/"
        },
        "id": "iHHI9zNddD70",
        "outputId": "4c1c3b80-de52-4fef-fa01-3d7e83411911"
      },
      "source": [
        "dates_test = []\n",
        "for i in range(len(df)-n_test , len(df)):\n",
        "  dates_test.append( str(df['Year'][i]) + \"-\" + str(df['Month'][i]) )\n",
        "\n",
        "dates_test"
      ],
      "execution_count": 22,
      "outputs": [
        {
          "output_type": "execute_result",
          "data": {
            "text/plain": [
              "['2021-1', '2021-2', '2021-3', '2021-4', '2021-5', '2021-6', '2021-7']"
            ]
          },
          "metadata": {},
          "execution_count": 22
        }
      ]
    },
    {
      "cell_type": "markdown",
      "metadata": {
        "id": "POKwgfDYdYtq"
      },
      "source": [
        "Conmpute confidence/prediction interval"
      ]
    },
    {
      "cell_type": "code",
      "metadata": {
        "id": "ezSnABH9dFsL"
      },
      "source": [
        "x_bar = array(test).mean()"
      ],
      "execution_count": 23,
      "outputs": []
    },
    {
      "cell_type": "code",
      "metadata": {
        "id": "qq2DjfPddKTr"
      },
      "source": [
        "sum = 0\n",
        "for i in range(n_test):\n",
        "  t = (test[i]-x_bar)**2\n",
        "  sum = sum + t"
      ],
      "execution_count": 24,
      "outputs": []
    },
    {
      "cell_type": "code",
      "metadata": {
        "id": "De5_q0QWdLyu"
      },
      "source": [
        "def compute_std_error(xh):\n",
        "  temp1 = 1.0 + (1.0/n_test) \n",
        "  temp2 = float((xh - x_bar)**2) / sum\n",
        "  return sqrt(MSE * (temp1+temp2))"
      ],
      "execution_count": 25,
      "outputs": []
    },
    {
      "cell_type": "code",
      "metadata": {
        "id": "gcuR_BrydNdT"
      },
      "source": [
        "confidence_upper = []\n",
        "confidence_lower = []\n",
        "t_multiplier = 2.228"
      ],
      "execution_count": 26,
      "outputs": []
    },
    {
      "cell_type": "code",
      "metadata": {
        "id": "q2SEtJf7dPiM"
      },
      "source": [
        "for i in range(n_test):\n",
        "  std_error = compute_std_error(test[i])\n",
        "  val = t_multiplier * std_error\n",
        "  confidence_upper.append(predictions[i] + val)\n",
        "  temp = predictions[i] - val\n",
        "  confidence_lower.append(max(temp,0))"
      ],
      "execution_count": 27,
      "outputs": []
    },
    {
      "cell_type": "code",
      "metadata": {
        "colab": {
          "base_uri": "https://localhost:8080/"
        },
        "id": "Lu05HzHfdRHF",
        "outputId": "0fbeaf6d-916c-4d05-df63-715107dfdab8"
      },
      "source": [
        "confidence_upper"
      ],
      "execution_count": 28,
      "outputs": [
        {
          "output_type": "execute_result",
          "data": {
            "text/plain": [
              "[87123.72924367554,\n",
              " 92386.91723980226,\n",
              " 182406.27255572396,\n",
              " 99983.8797745016,\n",
              " 107475.34200302992,\n",
              " 321814.00529804337,\n",
              " 104872.46913163638]"
            ]
          },
          "metadata": {},
          "execution_count": 28
        }
      ]
    },
    {
      "cell_type": "markdown",
      "metadata": {
        "id": "fZEyKQU3dW1X"
      },
      "source": [
        "Plot Graph"
      ]
    },
    {
      "cell_type": "code",
      "metadata": {
        "colab": {
          "base_uri": "https://localhost:8080/",
          "height": 428
        },
        "id": "v7nga5-6dSoW",
        "outputId": "d5bbe5c1-8c39-4995-a7c1-a6306e791623"
      },
      "source": [
        "plt.figure(figsize=(20,7))\n",
        "plt.plot(dates_train, train, color='darkorange', label=\"Train\")\n",
        "plt.plot(dates_test, test, color='red', label=\"Test\")\n",
        "plt.plot(dates_test, predictions, color='blue', label=\"Predicted\")\n",
        "plt.legend(loc=\"upper left\")\n",
        "plt.fill_between(dates_test, confidence_upper, confidence_lower, alpha=0.2)\n",
        "plt.xticks(np.arange(len(x_axis_label)), x_axis_label)\n",
        "\n",
        "plt.show()"
      ],
      "execution_count": 29,
      "outputs": [
        {
          "output_type": "display_data",
          "data": {
            "image/png": "[encoded data removed]",
            "text/plain": [
              "<Figure size 1440x504 with 1 Axes>"
            ]
          },
          "metadata": {
            "needs_background": "light"
          }
        }
      ]
    },
    {
      "cell_type": "code",
      "metadata": {
        "id": "6IRezN0-dUSu"
      },
      "source": [
        ""
      ],
      "execution_count": 29,
      "outputs": []
    }
  ]
}