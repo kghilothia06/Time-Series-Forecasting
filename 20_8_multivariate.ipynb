{
  "nbformat": 4,
  "nbformat_minor": 0,
  "metadata": {
    "colab": {
      "name": "20_8_multivariate.ipynb",
      "provenance": [],
      "authorship_tag": "ABX9TyPI2HVRQ3kV/ErEt5KZQwBM",
      "include_colab_link": true
    },
    "kernelspec": {
      "name": "python3",
      "display_name": "Python 3"
    },
    "language_info": {
      "name": "python"
    }
  },
  "cells": [
    {
      "cell_type": "markdown",
      "metadata": {
        "id": "view-in-github",
        "colab_type": "text"
      },
      "source": [
        "<a href=\"https://colab.research.google.com/github/kghilothia06/Time-Series-Forecasting/blob/main/20_8_multivariate.ipynb\" target=\"_parent\"><img src=\"https://colab.research.google.com/assets/colab-badge.svg\" alt=\"Open In Colab\"/></a>"
      ]
    },
    {
      "cell_type": "code",
      "metadata": {
        "id": "Xowboc57k7_s"
      },
      "source": [
        "#Import libraries\n",
        "from math import sqrt\n",
        "from numpy import split\n",
        "from numpy import array\n",
        "from pandas import read_csv\n",
        "from sklearn.metrics import mean_squared_error, r2_score\n",
        "from matplotlib import pyplot as plt\n",
        "import numpy as np\n",
        "from keras.models import Sequential\n",
        "from keras.layers import Dense\n",
        "from keras.layers import LSTM\n",
        "from keras.layers import RepeatVector\n",
        "from keras.layers import TimeDistributed"
      ],
      "execution_count": 1,
      "outputs": []
    },
    {
      "cell_type": "code",
      "metadata": {
        "id": "VmJ18mMOlZ8F"
      },
      "source": [
        "# split a univariate dataset into train/test sets\n",
        "def split_dataset(data, partition):\n",
        "\n",
        "  train = data[:-partition]\n",
        "  test = data[-partition:]\n",
        "  train_original = train\n",
        "  test_original = test\n",
        "\n",
        "  # apply padding (if required) in order to split train and test array in equal windows\n",
        "  if len(train) % partition != 0:\n",
        "    pad_width = partition - (len(train) % partition)\n",
        "    train = np.pad(train, (0,pad_width), 'constant', constant_values=(array(train).mean()))\n",
        "\n",
        "  if len(test) % partition != 0:\n",
        "    pad_width = partition - (len(test) % partition)\n",
        "    test = np.pad(test, (0,pad_width), 'constant', constant_values=(array(test).mean()))\n",
        "    \n",
        "  # restructure into equal windows\n",
        "  train = array(split(train, int(len(train)/partition)))\n",
        "  test = array(split(test, int(len(test)/partition)))\n",
        "  return train, test, train_original, test_original\n",
        "\n",
        "\n",
        "  return train, test, train_original, test_original"
      ],
      "execution_count": 2,
      "outputs": []
    },
    {
      "cell_type": "code",
      "metadata": {
        "id": "wBt9xLQMleaZ"
      },
      "source": [
        "# evaluate one or more weekly forecasts against expected values\n",
        "def evaluate_forecasts(actual, predicted):\n",
        "\tscores = list()\n",
        "\t# calculate an RMSE score for each day\n",
        "\tfor i in range(actual.shape[1]):\n",
        "\t\t# calculate mse\n",
        "\t\tmse = mean_squared_error(actual[:, i], predicted[:, i])\n",
        "\t\t# calculate rmse\n",
        "\t\trmse = sqrt(mse)\n",
        "\t\t# store\n",
        "\t\tscores.append(rmse)\n",
        "\t# calculate overall RMSE\n",
        "\ts = 0\n",
        "\tfor row in range(actual.shape[0]):\n",
        "\t\tfor col in range(actual.shape[1]):\n",
        "\t\t\ts += (actual[row, col] - predicted[row, col])**2\n",
        "\tscore = sqrt(s / (actual.shape[0] * actual.shape[1]))\n",
        "\treturn score, scores"
      ],
      "execution_count": 3,
      "outputs": []
    },
    {
      "cell_type": "code",
      "metadata": {
        "id": "Dn9-SlgGlqXV"
      },
      "source": [
        "# convert history into inputs and outputs\n",
        "def to_supervised(train, n_input, n_out):\n",
        "\t# flatten data\n",
        "\tdata = train.reshape((train.shape[0]*train.shape[1], train.shape[2]))\n",
        "\tX, y = list(), list()\n",
        "\tin_start = 0\n",
        "\t# step over the entire history one time step at a time\n",
        "\tfor _ in range(len(data)):\n",
        "\t\t# define the end of the input sequence\n",
        "\t\tin_end = in_start + n_input\n",
        "\t\tout_end = in_end + n_out\n",
        "\t\t# ensure we have enough data for this instance\n",
        "\t\tif out_end < len(data):\n",
        "\t\t\tX.append(data[in_start:in_end, :])\n",
        "\t\t\ty.append(data[in_end:out_end, 0])\n",
        "\t\t# move along one time step\n",
        "\t\tin_start += 1\n",
        "\treturn array(X), array(y)"
      ],
      "execution_count": 4,
      "outputs": []
    },
    {
      "cell_type": "code",
      "metadata": {
        "id": "hFzec6O0ltQe"
      },
      "source": [
        "# train the model\n",
        "def build_model(train, n_input, n_out):\n",
        "\t# prepare data\n",
        "\ttrain_x, train_y = to_supervised(train, n_input, n_out)\n",
        "\t# define parameters\n",
        "\tverbose, epochs, batch_size = 0, 50, 16\n",
        "\tn_timesteps, n_features, n_outputs = train_x.shape[1], train_x.shape[2], train_y.shape[1]\n",
        "\t# reshape output into [samples, timesteps, features]\n",
        "\ttrain_y = train_y.reshape((train_y.shape[0], train_y.shape[1], 1))\n",
        "\t# define model\n",
        "\tmodel = Sequential()\n",
        "\tmodel.add(LSTM(200, activation='relu', input_shape=(n_timesteps, n_features)))\n",
        "\tmodel.add(RepeatVector(n_outputs))\n",
        "\tmodel.add(LSTM(200, activation='relu', return_sequences=True))\n",
        "\tmodel.add(TimeDistributed(Dense(100, activation='relu')))\n",
        "\tmodel.add(TimeDistributed(Dense(1)))\n",
        "\tmodel.compile(loss='mse', optimizer='adam')\n",
        "\t# fit network\n",
        "\tmodel.fit(train_x, train_y, epochs=epochs, batch_size=batch_size, verbose=verbose)\n",
        "\treturn model\n"
      ],
      "execution_count": 5,
      "outputs": []
    },
    {
      "cell_type": "code",
      "metadata": {
        "id": "pssNLbehlvkc"
      },
      "source": [
        "# make a forecast\n",
        "def forecast(model, history, n_input):\n",
        "\t# flatten data\n",
        "\tdata = array(history)\n",
        "\tdata = data.reshape((data.shape[0]*data.shape[1], data.shape[2]))\n",
        "\t# retrieve last observations for input data\n",
        "\tinput_x = data[-n_input:, :]\n",
        "\t# reshape into [1, n_input, n]\n",
        "\tinput_x = input_x.reshape((1, input_x.shape[0], input_x.shape[1]))\n",
        "\t# forecast the next week\n",
        "\tyhat = model.predict(input_x, verbose=0)\n",
        "\t# we only want the vector forecast\n",
        "\tyhat = yhat[0]\n",
        "\treturn yhat"
      ],
      "execution_count": 6,
      "outputs": []
    },
    {
      "cell_type": "code",
      "metadata": {
        "id": "wzIVyoGbmBxO"
      },
      "source": [
        "# evaluate a single model\n",
        "def evaluate_model(train, test, n_input, n_out):\n",
        "\t# fit model\n",
        "\tmodel = build_model(train, n_input, n_out)\n",
        "\t# history is a list of weekly data\n",
        "\thistory = [x for x in train]\n",
        "\t# walk-forward validation over each week\n",
        "\tpredictions = list()\n",
        "\tfor i in range(len(test)):\n",
        "\t\t# predict the week\n",
        "\t\tyhat_sequence = forecast(model, history, n_input)\n",
        "\t\t# store the predictions\n",
        "\t\tpredictions.append(yhat_sequence)\n",
        "\t\t# get real observation and add to history for predicting the next week\n",
        "\t\thistory.append(yhat_sequence)\n",
        "\t# evaluate predictions days for each week\n",
        "\tpredictions = array(predictions)\n",
        "\tscore, scores = evaluate_forecasts(test[:, :, 0], predictions)\n",
        "\treturn score, scores, predictions"
      ],
      "execution_count": 7,
      "outputs": []
    },
    {
      "cell_type": "code",
      "metadata": {
        "id": "18vaXAm2mDwG"
      },
      "source": [
        "#Load dataset\n",
        "df1 = read_csv('/content/data_8_variables.csv')"
      ],
      "execution_count": 8,
      "outputs": []
    },
    {
      "cell_type": "markdown",
      "metadata": {
        "id": "QLf97cR5pgjY"
      },
      "source": [
        "EDA"
      ]
    },
    {
      "cell_type": "code",
      "metadata": {
        "colab": {
          "base_uri": "https://localhost:8080/",
          "height": 204
        },
        "id": "v7VGE4NhmSna",
        "outputId": "309fe3c2-74ce-4c4d-c207-6c97fa36c900"
      },
      "source": [
        "df1.head(5)"
      ],
      "execution_count": 9,
      "outputs": [
        {
          "output_type": "execute_result",
          "data": {
            "text/html": [
              "<div>\n",
              "<style scoped>\n",
              "    .dataframe tbody tr th:only-of-type {\n",
              "        vertical-align: middle;\n",
              "    }\n",
              "\n",
              "    .dataframe tbody tr th {\n",
              "        vertical-align: top;\n",
              "    }\n",
              "\n",
              "    .dataframe thead th {\n",
              "        text-align: right;\n",
              "    }\n",
              "</style>\n",
              "<table border=\"1\" class=\"dataframe\">\n",
              "  <thead>\n",
              "    <tr style=\"text-align: right;\">\n",
              "      <th></th>\n",
              "      <th>Date</th>\n",
              "      <th>Revenue</th>\n",
              "      <th>Unemployment</th>\n",
              "      <th>PPI</th>\n",
              "      <th>SoftwareSales</th>\n",
              "      <th>PCE</th>\n",
              "      <th>GDP</th>\n",
              "      <th>Covid</th>\n",
              "      <th>Cloud-OnPrem</th>\n",
              "    </tr>\n",
              "  </thead>\n",
              "  <tbody>\n",
              "    <tr>\n",
              "      <th>0</th>\n",
              "      <td>1/1/2017</td>\n",
              "      <td>11141.566</td>\n",
              "      <td>4.7</td>\n",
              "      <td>91.6</td>\n",
              "      <td>16993</td>\n",
              "      <td>13015.1</td>\n",
              "      <td>6481.00</td>\n",
              "      <td>0</td>\n",
              "      <td>0.267699</td>\n",
              "    </tr>\n",
              "    <tr>\n",
              "      <th>1</th>\n",
              "      <td>2/1/2017</td>\n",
              "      <td>11483.520</td>\n",
              "      <td>4.6</td>\n",
              "      <td>95.4</td>\n",
              "      <td>15656</td>\n",
              "      <td>13034.7</td>\n",
              "      <td>6481.00</td>\n",
              "      <td>0</td>\n",
              "      <td>0.356420</td>\n",
              "    </tr>\n",
              "    <tr>\n",
              "      <th>2</th>\n",
              "      <td>3/1/2017</td>\n",
              "      <td>89026.192</td>\n",
              "      <td>4.4</td>\n",
              "      <td>97.8</td>\n",
              "      <td>21011</td>\n",
              "      <td>13089.6</td>\n",
              "      <td>6481.00</td>\n",
              "      <td>0</td>\n",
              "      <td>0.216901</td>\n",
              "    </tr>\n",
              "    <tr>\n",
              "      <th>3</th>\n",
              "      <td>4/1/2017</td>\n",
              "      <td>7486.732</td>\n",
              "      <td>4.5</td>\n",
              "      <td>94.1</td>\n",
              "      <td>18405</td>\n",
              "      <td>13127.7</td>\n",
              "      <td>6572.67</td>\n",
              "      <td>0</td>\n",
              "      <td>0.535412</td>\n",
              "    </tr>\n",
              "    <tr>\n",
              "      <th>4</th>\n",
              "      <td>5/1/2017</td>\n",
              "      <td>17719.978</td>\n",
              "      <td>4.4</td>\n",
              "      <td>95.1</td>\n",
              "      <td>19293</td>\n",
              "      <td>13128.7</td>\n",
              "      <td>6572.67</td>\n",
              "      <td>0</td>\n",
              "      <td>0.496066</td>\n",
              "    </tr>\n",
              "  </tbody>\n",
              "</table>\n",
              "</div>"
            ],
            "text/plain": [
              "       Date    Revenue  Unemployment  ...      GDP  Covid  Cloud-OnPrem\n",
              "0  1/1/2017  11141.566           4.7  ...  6481.00      0      0.267699\n",
              "1  2/1/2017  11483.520           4.6  ...  6481.00      0      0.356420\n",
              "2  3/1/2017  89026.192           4.4  ...  6481.00      0      0.216901\n",
              "3  4/1/2017   7486.732           4.5  ...  6572.67      0      0.535412\n",
              "4  5/1/2017  17719.978           4.4  ...  6572.67      0      0.496066\n",
              "\n",
              "[5 rows x 9 columns]"
            ]
          },
          "metadata": {},
          "execution_count": 9
        }
      ]
    },
    {
      "cell_type": "code",
      "metadata": {
        "colab": {
          "base_uri": "https://localhost:8080/",
          "height": 359
        },
        "id": "FDgw6neXpXOn",
        "outputId": "b1ee37b6-46df-430f-b0af-2047c2a8f08c"
      },
      "source": [
        "df1.tail(10)"
      ],
      "execution_count": 10,
      "outputs": [
        {
          "output_type": "execute_result",
          "data": {
            "text/html": [
              "<div>\n",
              "<style scoped>\n",
              "    .dataframe tbody tr th:only-of-type {\n",
              "        vertical-align: middle;\n",
              "    }\n",
              "\n",
              "    .dataframe tbody tr th {\n",
              "        vertical-align: top;\n",
              "    }\n",
              "\n",
              "    .dataframe thead th {\n",
              "        text-align: right;\n",
              "    }\n",
              "</style>\n",
              "<table border=\"1\" class=\"dataframe\">\n",
              "  <thead>\n",
              "    <tr style=\"text-align: right;\">\n",
              "      <th></th>\n",
              "      <th>Date</th>\n",
              "      <th>Revenue</th>\n",
              "      <th>Unemployment</th>\n",
              "      <th>PPI</th>\n",
              "      <th>SoftwareSales</th>\n",
              "      <th>PCE</th>\n",
              "      <th>GDP</th>\n",
              "      <th>Covid</th>\n",
              "      <th>Cloud-OnPrem</th>\n",
              "    </tr>\n",
              "  </thead>\n",
              "  <tbody>\n",
              "    <tr>\n",
              "      <th>44</th>\n",
              "      <td>9/1/2020</td>\n",
              "      <td>147118.567</td>\n",
              "      <td>7.8</td>\n",
              "      <td>99.5</td>\n",
              "      <td>25029</td>\n",
              "      <td>14481.7</td>\n",
              "      <td>7079.67</td>\n",
              "      <td>1</td>\n",
              "      <td>0.470217</td>\n",
              "    </tr>\n",
              "    <tr>\n",
              "      <th>45</th>\n",
              "      <td>10/1/2020</td>\n",
              "      <td>43706.168</td>\n",
              "      <td>6.9</td>\n",
              "      <td>98.8</td>\n",
              "      <td>24942</td>\n",
              "      <td>14546.0</td>\n",
              "      <td>7270.33</td>\n",
              "      <td>1</td>\n",
              "      <td>0.350292</td>\n",
              "    </tr>\n",
              "    <tr>\n",
              "      <th>46</th>\n",
              "      <td>11/1/2020</td>\n",
              "      <td>54935.815</td>\n",
              "      <td>6.7</td>\n",
              "      <td>97.0</td>\n",
              "      <td>23015</td>\n",
              "      <td>14467.3</td>\n",
              "      <td>7270.33</td>\n",
              "      <td>1</td>\n",
              "      <td>0.238163</td>\n",
              "    </tr>\n",
              "    <tr>\n",
              "      <th>47</th>\n",
              "      <td>12/1/2020</td>\n",
              "      <td>519428.806</td>\n",
              "      <td>6.7</td>\n",
              "      <td>97.6</td>\n",
              "      <td>28530</td>\n",
              "      <td>14389.5</td>\n",
              "      <td>7270.33</td>\n",
              "      <td>1</td>\n",
              "      <td>0.291056</td>\n",
              "    </tr>\n",
              "    <tr>\n",
              "      <th>48</th>\n",
              "      <td>1/1/2021</td>\n",
              "      <td>16501.026</td>\n",
              "      <td>6.3</td>\n",
              "      <td>97.1</td>\n",
              "      <td>21862</td>\n",
              "      <td>14857.9</td>\n",
              "      <td>7812.33</td>\n",
              "      <td>1</td>\n",
              "      <td>1.166448</td>\n",
              "    </tr>\n",
              "    <tr>\n",
              "      <th>49</th>\n",
              "      <td>2/1/2021</td>\n",
              "      <td>55269.823</td>\n",
              "      <td>6.2</td>\n",
              "      <td>97.3</td>\n",
              "      <td>20129</td>\n",
              "      <td>14699.6</td>\n",
              "      <td>7812.33</td>\n",
              "      <td>1</td>\n",
              "      <td>0.731457</td>\n",
              "    </tr>\n",
              "    <tr>\n",
              "      <th>50</th>\n",
              "      <td>3/1/2021</td>\n",
              "      <td>132237.610</td>\n",
              "      <td>6.0</td>\n",
              "      <td>96.7</td>\n",
              "      <td>26123</td>\n",
              "      <td>15458.9</td>\n",
              "      <td>7812.33</td>\n",
              "      <td>1</td>\n",
              "      <td>0.459600</td>\n",
              "    </tr>\n",
              "    <tr>\n",
              "      <th>51</th>\n",
              "      <td>4/1/2021</td>\n",
              "      <td>20767.113</td>\n",
              "      <td>6.1</td>\n",
              "      <td>101.0</td>\n",
              "      <td>24150</td>\n",
              "      <td>15630.0</td>\n",
              "      <td>7408.33</td>\n",
              "      <td>1</td>\n",
              "      <td>0.984101</td>\n",
              "    </tr>\n",
              "    <tr>\n",
              "      <th>52</th>\n",
              "      <td>5/1/2021</td>\n",
              "      <td>45859.339</td>\n",
              "      <td>5.8</td>\n",
              "      <td>95.8</td>\n",
              "      <td>23228</td>\n",
              "      <td>15616.2</td>\n",
              "      <td>7408.33</td>\n",
              "      <td>1</td>\n",
              "      <td>0.826293</td>\n",
              "    </tr>\n",
              "    <tr>\n",
              "      <th>53</th>\n",
              "      <td>6/1/2021</td>\n",
              "      <td>183014.713</td>\n",
              "      <td>5.9</td>\n",
              "      <td>96.1</td>\n",
              "      <td>28438</td>\n",
              "      <td>15771.6</td>\n",
              "      <td>7408.33</td>\n",
              "      <td>1</td>\n",
              "      <td>0.754712</td>\n",
              "    </tr>\n",
              "  </tbody>\n",
              "</table>\n",
              "</div>"
            ],
            "text/plain": [
              "         Date     Revenue  Unemployment  ...      GDP  Covid  Cloud-OnPrem\n",
              "44   9/1/2020  147118.567           7.8  ...  7079.67      1      0.470217\n",
              "45  10/1/2020   43706.168           6.9  ...  7270.33      1      0.350292\n",
              "46  11/1/2020   54935.815           6.7  ...  7270.33      1      0.238163\n",
              "47  12/1/2020  519428.806           6.7  ...  7270.33      1      0.291056\n",
              "48   1/1/2021   16501.026           6.3  ...  7812.33      1      1.166448\n",
              "49   2/1/2021   55269.823           6.2  ...  7812.33      1      0.731457\n",
              "50   3/1/2021  132237.610           6.0  ...  7812.33      1      0.459600\n",
              "51   4/1/2021   20767.113           6.1  ...  7408.33      1      0.984101\n",
              "52   5/1/2021   45859.339           5.8  ...  7408.33      1      0.826293\n",
              "53   6/1/2021  183014.713           5.9  ...  7408.33      1      0.754712\n",
              "\n",
              "[10 rows x 9 columns]"
            ]
          },
          "metadata": {},
          "execution_count": 10
        }
      ]
    },
    {
      "cell_type": "code",
      "metadata": {
        "colab": {
          "base_uri": "https://localhost:8080/"
        },
        "id": "Ur4GBOm-mSiO",
        "outputId": "acaae0f7-3a89-4410-da71-9738fdd8006a"
      },
      "source": [
        "df1.shape"
      ],
      "execution_count": 11,
      "outputs": [
        {
          "output_type": "execute_result",
          "data": {
            "text/plain": [
              "(54, 9)"
            ]
          },
          "metadata": {},
          "execution_count": 11
        }
      ]
    },
    {
      "cell_type": "code",
      "metadata": {
        "colab": {
          "base_uri": "https://localhost:8080/"
        },
        "id": "MWi01Y0gpXGe",
        "outputId": "8e5e6b46-cbc1-4059-ebb5-fa6786958e9f"
      },
      "source": [
        "df1.info()"
      ],
      "execution_count": 12,
      "outputs": [
        {
          "output_type": "stream",
          "name": "stdout",
          "text": [
            "<class 'pandas.core.frame.DataFrame'>\n",
            "RangeIndex: 54 entries, 0 to 53\n",
            "Data columns (total 9 columns):\n",
            " #   Column         Non-Null Count  Dtype  \n",
            "---  ------         --------------  -----  \n",
            " 0   Date           54 non-null     object \n",
            " 1   Revenue        54 non-null     float64\n",
            " 2   Unemployment   54 non-null     float64\n",
            " 3   PPI            54 non-null     float64\n",
            " 4   SoftwareSales  54 non-null     int64  \n",
            " 5   PCE            54 non-null     float64\n",
            " 6   GDP            54 non-null     float64\n",
            " 7   Covid          54 non-null     int64  \n",
            " 8   Cloud-OnPrem   54 non-null     float64\n",
            "dtypes: float64(6), int64(2), object(1)\n",
            "memory usage: 3.9+ KB\n"
          ]
        }
      ]
    },
    {
      "cell_type": "code",
      "metadata": {
        "colab": {
          "base_uri": "https://localhost:8080/",
          "height": 297
        },
        "id": "7dbSwRdJpXK3",
        "outputId": "0174fffc-73d1-4a4a-d2fb-35e564831c6b"
      },
      "source": [
        "df1.describe()"
      ],
      "execution_count": 13,
      "outputs": [
        {
          "output_type": "execute_result",
          "data": {
            "text/html": [
              "<div>\n",
              "<style scoped>\n",
              "    .dataframe tbody tr th:only-of-type {\n",
              "        vertical-align: middle;\n",
              "    }\n",
              "\n",
              "    .dataframe tbody tr th {\n",
              "        vertical-align: top;\n",
              "    }\n",
              "\n",
              "    .dataframe thead th {\n",
              "        text-align: right;\n",
              "    }\n",
              "</style>\n",
              "<table border=\"1\" class=\"dataframe\">\n",
              "  <thead>\n",
              "    <tr style=\"text-align: right;\">\n",
              "      <th></th>\n",
              "      <th>Revenue</th>\n",
              "      <th>Unemployment</th>\n",
              "      <th>PPI</th>\n",
              "      <th>SoftwareSales</th>\n",
              "      <th>PCE</th>\n",
              "      <th>GDP</th>\n",
              "      <th>Covid</th>\n",
              "      <th>Cloud-OnPrem</th>\n",
              "    </tr>\n",
              "  </thead>\n",
              "  <tbody>\n",
              "    <tr>\n",
              "      <th>count</th>\n",
              "      <td>54.000000</td>\n",
              "      <td>54.000000</td>\n",
              "      <td>54.000000</td>\n",
              "      <td>54.000000</td>\n",
              "      <td>54.000000</td>\n",
              "      <td>54.000000</td>\n",
              "      <td>54.000000</td>\n",
              "      <td>54.000000</td>\n",
              "    </tr>\n",
              "    <tr>\n",
              "      <th>mean</th>\n",
              "      <td>96305.739648</td>\n",
              "      <td>5.124074</td>\n",
              "      <td>95.268519</td>\n",
              "      <td>22152.388889</td>\n",
              "      <td>14066.309259</td>\n",
              "      <td>6981.297222</td>\n",
              "      <td>0.277778</td>\n",
              "      <td>0.491953</td>\n",
              "    </tr>\n",
              "    <tr>\n",
              "      <th>std</th>\n",
              "      <td>135458.084897</td>\n",
              "      <td>2.419101</td>\n",
              "      <td>3.022671</td>\n",
              "      <td>2618.448154</td>\n",
              "      <td>739.931952</td>\n",
              "      <td>328.598644</td>\n",
              "      <td>0.452109</td>\n",
              "      <td>0.250673</td>\n",
              "    </tr>\n",
              "    <tr>\n",
              "      <th>min</th>\n",
              "      <td>7486.732000</td>\n",
              "      <td>3.500000</td>\n",
              "      <td>88.500000</td>\n",
              "      <td>15656.000000</td>\n",
              "      <td>12021.800000</td>\n",
              "      <td>6481.000000</td>\n",
              "      <td>0.000000</td>\n",
              "      <td>0.163757</td>\n",
              "    </tr>\n",
              "    <tr>\n",
              "      <th>25%</th>\n",
              "      <td>19950.849000</td>\n",
              "      <td>3.800000</td>\n",
              "      <td>93.150000</td>\n",
              "      <td>20832.750000</td>\n",
              "      <td>13606.375000</td>\n",
              "      <td>6779.000000</td>\n",
              "      <td>0.000000</td>\n",
              "      <td>0.303408</td>\n",
              "    </tr>\n",
              "    <tr>\n",
              "      <th>50%</th>\n",
              "      <td>38736.537000</td>\n",
              "      <td>4.100000</td>\n",
              "      <td>95.150000</td>\n",
              "      <td>22532.000000</td>\n",
              "      <td>14111.150000</td>\n",
              "      <td>6952.335000</td>\n",
              "      <td>0.000000</td>\n",
              "      <td>0.433221</td>\n",
              "    </tr>\n",
              "    <tr>\n",
              "      <th>75%</th>\n",
              "      <td>119584.180750</td>\n",
              "      <td>5.875000</td>\n",
              "      <td>97.275000</td>\n",
              "      <td>23955.250000</td>\n",
              "      <td>14524.150000</td>\n",
              "      <td>7213.670000</td>\n",
              "      <td>1.000000</td>\n",
              "      <td>0.623677</td>\n",
              "    </tr>\n",
              "    <tr>\n",
              "      <th>max</th>\n",
              "      <td>724700.889000</td>\n",
              "      <td>14.800000</td>\n",
              "      <td>101.600000</td>\n",
              "      <td>28530.000000</td>\n",
              "      <td>15771.600000</td>\n",
              "      <td>7812.330000</td>\n",
              "      <td>1.000000</td>\n",
              "      <td>1.166448</td>\n",
              "    </tr>\n",
              "  </tbody>\n",
              "</table>\n",
              "</div>"
            ],
            "text/plain": [
              "             Revenue  Unemployment  ...      Covid  Cloud-OnPrem\n",
              "count      54.000000     54.000000  ...  54.000000     54.000000\n",
              "mean    96305.739648      5.124074  ...   0.277778      0.491953\n",
              "std    135458.084897      2.419101  ...   0.452109      0.250673\n",
              "min      7486.732000      3.500000  ...   0.000000      0.163757\n",
              "25%     19950.849000      3.800000  ...   0.000000      0.303408\n",
              "50%     38736.537000      4.100000  ...   0.000000      0.433221\n",
              "75%    119584.180750      5.875000  ...   1.000000      0.623677\n",
              "max    724700.889000     14.800000  ...   1.000000      1.166448\n",
              "\n",
              "[8 rows x 8 columns]"
            ]
          },
          "metadata": {},
          "execution_count": 13
        }
      ]
    },
    {
      "cell_type": "code",
      "metadata": {
        "id": "Eg8V_CPQr6Dh"
      },
      "source": [
        "#exclude 'Date' Column \n",
        "df = df1.drop('Date' , axis=1)"
      ],
      "execution_count": 14,
      "outputs": []
    },
    {
      "cell_type": "code",
      "metadata": {
        "colab": {
          "base_uri": "https://localhost:8080/"
        },
        "id": "l-f9vaL6saF6",
        "outputId": "05541cd9-1916-4548-b879-3a8fe9e023ca"
      },
      "source": [
        "df1.shape"
      ],
      "execution_count": 15,
      "outputs": [
        {
          "output_type": "execute_result",
          "data": {
            "text/plain": [
              "(54, 9)"
            ]
          },
          "metadata": {},
          "execution_count": 15
        }
      ]
    },
    {
      "cell_type": "markdown",
      "metadata": {
        "id": "rcMgys6BpsMr"
      },
      "source": [
        "Train-Test split"
      ]
    },
    {
      "cell_type": "code",
      "metadata": {
        "id": "GnCovG7PpXSn"
      },
      "source": [
        "# Jan 2021 to Jun 2021 is test set\n",
        "# While remaining is training set\n",
        "partition = 6\n",
        "train, test, train_original, test_original = split_dataset(df.values, partition)"
      ],
      "execution_count": 16,
      "outputs": []
    },
    {
      "cell_type": "code",
      "metadata": {
        "colab": {
          "base_uri": "https://localhost:8080/"
        },
        "id": "-8WLo4fxpnOK",
        "outputId": "94d1eedb-70a3-4e67-9303-b54a386a954f"
      },
      "source": [
        "train.shape, test.shape"
      ],
      "execution_count": 17,
      "outputs": [
        {
          "output_type": "execute_result",
          "data": {
            "text/plain": [
              "((8, 6, 8), (1, 6, 8))"
            ]
          },
          "metadata": {},
          "execution_count": 17
        }
      ]
    },
    {
      "cell_type": "code",
      "metadata": {
        "colab": {
          "base_uri": "https://localhost:8080/"
        },
        "id": "w3_mCDp2pnML",
        "outputId": "16a0d759-539d-48d5-f1df-87415701172d"
      },
      "source": [
        "train_original.shape, test_original.shape"
      ],
      "execution_count": 18,
      "outputs": [
        {
          "output_type": "execute_result",
          "data": {
            "text/plain": [
              "((48, 8), (6, 8))"
            ]
          },
          "metadata": {},
          "execution_count": 18
        }
      ]
    },
    {
      "cell_type": "markdown",
      "metadata": {
        "id": "di7RcZFot56B"
      },
      "source": [
        "Model Building and Evaluation"
      ]
    },
    {
      "cell_type": "code",
      "metadata": {
        "id": "W6UGxB43vUGx"
      },
      "source": [
        "n_input = 12\n",
        "n_out = 6"
      ],
      "execution_count": 19,
      "outputs": []
    },
    {
      "cell_type": "code",
      "metadata": {
        "id": "63Btx-BHpnKG"
      },
      "source": [
        "score, scores, pred =evaluate_model(train, test, n_input, n_out)"
      ],
      "execution_count": 20,
      "outputs": []
    },
    {
      "cell_type": "markdown",
      "metadata": {
        "id": "UD7EveQfwbAh"
      },
      "source": [
        "Convet predictions, train, test to lists for graph plotting purpose"
      ]
    },
    {
      "cell_type": "code",
      "metadata": {
        "colab": {
          "base_uri": "https://localhost:8080/"
        },
        "id": "yCOWB5PkpnIJ",
        "outputId": "b09a5218-8920-4099-bfa2-dc1ca079821a"
      },
      "source": [
        "predictions = pred.reshape(-1).tolist()\n",
        "predictions"
      ],
      "execution_count": 21,
      "outputs": [
        {
          "output_type": "execute_result",
          "data": {
            "text/plain": [
              "[35716.76953125,\n",
              " 54786.41015625,\n",
              " 78485.96875,\n",
              " 117898.2734375,\n",
              " 162791.09375,\n",
              " 174043.15625]"
            ]
          },
          "metadata": {},
          "execution_count": 21
        }
      ]
    },
    {
      "cell_type": "code",
      "metadata": {
        "colab": {
          "base_uri": "https://localhost:8080/"
        },
        "id": "F8rEsb-vwWDF",
        "outputId": "1ae855c8-622a-4508-f800-0cd5977224f6"
      },
      "source": [
        "test_values_list = test_original[:,0].reshape(-1).tolist()\n",
        "test_values_list"
      ],
      "execution_count": 22,
      "outputs": [
        {
          "output_type": "execute_result",
          "data": {
            "text/plain": [
              "[16501.026,\n",
              " 55269.823,\n",
              " 132237.61,\n",
              " 20767.113,\n",
              " 45859.33900000001,\n",
              " 183014.71300000002]"
            ]
          },
          "metadata": {},
          "execution_count": 22
        }
      ]
    },
    {
      "cell_type": "code",
      "metadata": {
        "colab": {
          "base_uri": "https://localhost:8080/"
        },
        "id": "ZPRKrFxHwWAA",
        "outputId": "a3fd184c-07cf-4c21-c38a-569387c3d1f2"
      },
      "source": [
        "train_values_list = train_original[:,0].reshape(-1).tolist()\n",
        "train_values_list"
      ],
      "execution_count": 23,
      "outputs": [
        {
          "output_type": "execute_result",
          "data": {
            "text/plain": [
              "[11141.566,\n",
              " 11483.52,\n",
              " 89026.192,\n",
              " 7486.732,\n",
              " 17719.978,\n",
              " 159129.659,\n",
              " 16736.302,\n",
              " 25432.066000000003,\n",
              " 145620.785,\n",
              " 24954.743,\n",
              " 42440.280999999995,\n",
              " 389795.30100000004,\n",
              " 10851.367,\n",
              " 15156.59,\n",
              " 92459.405,\n",
              " 18964.488999999998,\n",
              " 27080.474,\n",
              " 156189.554,\n",
              " 22733.732000000004,\n",
              " 19094.521,\n",
              " 119631.54800000001,\n",
              " 21636.455,\n",
              " 64590.779,\n",
              " 303152.06,\n",
              " 12594.348,\n",
              " 24780.076,\n",
              " 116184.04699999999,\n",
              " 33054.437000000005,\n",
              " 48772.3,\n",
              " 285241.25800000003,\n",
              " 27898.502999999997,\n",
              " 51342.508,\n",
              " 244466.379,\n",
              " 34864.443,\n",
              " 73088.785,\n",
              " 724700.8890000001,\n",
              " 16301.221000000001,\n",
              " 19678.761000000002,\n",
              " 119442.079,\n",
              " 18721.319,\n",
              " 30280.716,\n",
              " 226958.057,\n",
              " 25759.943,\n",
              " 35032.793,\n",
              " 147118.56699999998,\n",
              " 43706.168,\n",
              " 54935.815,\n",
              " 519428.80600000004]"
            ]
          },
          "metadata": {},
          "execution_count": 23
        }
      ]
    },
    {
      "cell_type": "code",
      "metadata": {
        "colab": {
          "base_uri": "https://localhost:8080/"
        },
        "id": "aiXguulbzVTp",
        "outputId": "753721ae-4bd6-4fb6-c9f6-307bca819bee"
      },
      "source": [
        "#Evaluate Model using r2_score and RMSE\n",
        "MSE = mean_squared_error(test_values_list, predictions)\n",
        "RMSE = int(sqrt(MSE))\n",
        "R2 = r2_score(test_values_list,predictions)\n",
        "print('RMSE : ' + str(RMSE))\n",
        "print('R square : ' + str(R2))"
      ],
      "execution_count": 24,
      "outputs": [
        {
          "output_type": "stream",
          "name": "stdout",
          "text": [
            "RMSE : 66391\n",
            "R square : -0.17317240620585572\n"
          ]
        }
      ]
    },
    {
      "cell_type": "code",
      "metadata": {
        "colab": {
          "base_uri": "https://localhost:8080/",
          "height": 265
        },
        "id": "qpK6doY2pnGD",
        "outputId": "b6116613-73c9-45c2-f9f4-e6061759b86f"
      },
      "source": [
        "# plot scores\n",
        "months = ['Jan', 'Feb', 'Mar', 'Apr', 'May', 'Jun']\n",
        "plt.plot(months, scores, marker='o', label='lstm')\n",
        "plt.show()"
      ],
      "execution_count": 25,
      "outputs": [
        {
          "output_type": "display_data",
          "data": {
            "image/png": "[encoded data removed]",
            "text/plain": [
              "<Figure size 432x288 with 1 Axes>"
            ]
          },
          "metadata": {
            "needs_background": "light"
          }
        }
      ]
    },
    {
      "cell_type": "markdown",
      "metadata": {
        "id": "m0tICaRlz7Lv"
      },
      "source": [
        "Add Graph"
      ]
    },
    {
      "cell_type": "code",
      "metadata": {
        "id": "DhDMYQaupnD-"
      },
      "source": [
        "#set x axis labels\n",
        "vis = dict()\n",
        "\n",
        "x_axis_label = []\n",
        "\n",
        "for cur_date in df1['Date']:\n",
        "  \n",
        "  cur_year = cur_date[-4:] \n",
        "  if str(cur_year) not in vis.keys():\n",
        "    vis[str(cur_year)] = 1\n",
        "    x_axis_label.append(str(cur_year))\n",
        "  \n",
        "  else:\n",
        "    x_axis_label.append('')"
      ],
      "execution_count": 26,
      "outputs": []
    },
    {
      "cell_type": "code",
      "metadata": {
        "colab": {
          "base_uri": "https://localhost:8080/"
        },
        "id": "wl8sEIkGpnB3",
        "outputId": "758dcc5e-cca6-4834-bae3-f950e91632d6"
      },
      "source": [
        "x_axis_label"
      ],
      "execution_count": 27,
      "outputs": [
        {
          "output_type": "execute_result",
          "data": {
            "text/plain": [
              "['2017',\n",
              " '',\n",
              " '',\n",
              " '',\n",
              " '',\n",
              " '',\n",
              " '',\n",
              " '',\n",
              " '',\n",
              " '',\n",
              " '',\n",
              " '',\n",
              " '2018',\n",
              " '',\n",
              " '',\n",
              " '',\n",
              " '',\n",
              " '',\n",
              " '',\n",
              " '',\n",
              " '',\n",
              " '',\n",
              " '',\n",
              " '',\n",
              " '2019',\n",
              " '',\n",
              " '',\n",
              " '',\n",
              " '',\n",
              " '',\n",
              " '',\n",
              " '',\n",
              " '',\n",
              " '',\n",
              " '',\n",
              " '',\n",
              " '2020',\n",
              " '',\n",
              " '',\n",
              " '',\n",
              " '',\n",
              " '',\n",
              " '',\n",
              " '',\n",
              " '',\n",
              " '',\n",
              " '',\n",
              " '',\n",
              " '2021',\n",
              " '',\n",
              " '',\n",
              " '',\n",
              " '',\n",
              " '']"
            ]
          },
          "metadata": {},
          "execution_count": 27
        }
      ]
    },
    {
      "cell_type": "markdown",
      "metadata": {
        "id": "XHvXQMG02akl"
      },
      "source": [
        "specify dates"
      ]
    },
    {
      "cell_type": "code",
      "metadata": {
        "colab": {
          "base_uri": "https://localhost:8080/"
        },
        "id": "pCvFnZJ7pm_n",
        "outputId": "4000eac3-c63c-4cfb-c1b7-3f7569fb1370"
      },
      "source": [
        "dates_train = []\n",
        "for i in range(len(df1)-partition):\n",
        "  dates_train.append(df1['Date'][i])\n",
        "\n",
        "dates_train"
      ],
      "execution_count": 28,
      "outputs": [
        {
          "output_type": "execute_result",
          "data": {
            "text/plain": [
              "['1/1/2017',\n",
              " '2/1/2017',\n",
              " '3/1/2017',\n",
              " '4/1/2017',\n",
              " '5/1/2017',\n",
              " '6/1/2017',\n",
              " '7/1/2017',\n",
              " '8/1/2017',\n",
              " '9/1/2017',\n",
              " '10/1/2017',\n",
              " '11/1/2017',\n",
              " '12/1/2017',\n",
              " '1/1/2018',\n",
              " '2/1/2018',\n",
              " '3/1/2018',\n",
              " '4/1/2018',\n",
              " '5/1/2018',\n",
              " '6/1/2018',\n",
              " '7/1/2018',\n",
              " '8/1/2018',\n",
              " '9/1/2018',\n",
              " '10/1/2018',\n",
              " '11/1/2018',\n",
              " '12/1/2018',\n",
              " '1/1/2019',\n",
              " '2/1/2019',\n",
              " '3/1/2019',\n",
              " '4/1/2019',\n",
              " '5/1/2019',\n",
              " '6/1/2019',\n",
              " '7/1/2019',\n",
              " '8/1/2019',\n",
              " '9/1/2019',\n",
              " '10/1/2019',\n",
              " '11/1/2019',\n",
              " '12/1/2019',\n",
              " '1/1/2020',\n",
              " '2/1/2020',\n",
              " '3/1/2020',\n",
              " '4/1/2020',\n",
              " '5/1/2020',\n",
              " '6/1/2020',\n",
              " '7/1/2020',\n",
              " '8/1/2020',\n",
              " '9/1/2020',\n",
              " '10/1/2020',\n",
              " '11/1/2020',\n",
              " '12/1/2020']"
            ]
          },
          "metadata": {},
          "execution_count": 28
        }
      ]
    },
    {
      "cell_type": "code",
      "metadata": {
        "colab": {
          "base_uri": "https://localhost:8080/"
        },
        "id": "kMCQS8bopm9e",
        "outputId": "6a9b8862-6550-46c5-e11a-1c8c36bd5c19"
      },
      "source": [
        "dates_test = []\n",
        "for i in range(len(df1)-partition , len(df1)):\n",
        "  dates_test.append(df1['Date'][i])\n",
        "\n",
        "dates_test"
      ],
      "execution_count": 29,
      "outputs": [
        {
          "output_type": "execute_result",
          "data": {
            "text/plain": [
              "['1/1/2021', '2/1/2021', '3/1/2021', '4/1/2021', '5/1/2021', '6/1/2021']"
            ]
          },
          "metadata": {},
          "execution_count": 29
        }
      ]
    },
    {
      "cell_type": "markdown",
      "metadata": {
        "id": "-je76-R420Xk"
      },
      "source": [
        "Compute conifdence/prediction intervals"
      ]
    },
    {
      "cell_type": "code",
      "metadata": {
        "id": "HKFhOFOXpm7H"
      },
      "source": [
        "x_bar = array(test_values_list).mean()"
      ],
      "execution_count": 30,
      "outputs": []
    },
    {
      "cell_type": "code",
      "metadata": {
        "id": "qXdL27RHpm3h"
      },
      "source": [
        "sum = 0\n",
        "for i in range(partition):\n",
        "  t = (test_values_list[i]-x_bar)**2\n",
        "  sum = sum + t"
      ],
      "execution_count": 31,
      "outputs": []
    },
    {
      "cell_type": "code",
      "metadata": {
        "id": "oNVda_kd268C"
      },
      "source": [
        "def compute_std_error(xh):\n",
        "  temp1 = 1.0 + (1.0/partition) \n",
        "  temp2 = float((xh - x_bar)**2) / sum\n",
        "  return sqrt(MSE * (temp1+temp2))"
      ],
      "execution_count": 32,
      "outputs": []
    },
    {
      "cell_type": "code",
      "metadata": {
        "id": "CIZB1jSq29Wf"
      },
      "source": [
        "confidence_upper = []\n",
        "confidence_lower = []\n",
        "t_multiplier = 2.228"
      ],
      "execution_count": 33,
      "outputs": []
    },
    {
      "cell_type": "code",
      "metadata": {
        "id": "OG1QXYiY2_Cl"
      },
      "source": [
        "for i in range(partition):\n",
        "  std_error = compute_std_error(test_values_list[i])\n",
        "  val = t_multiplier * std_error\n",
        "  confidence_upper.append(predictions[i] + val)\n",
        "  temp = predictions[i] - val\n",
        "  confidence_lower.append(max(temp,0))"
      ],
      "execution_count": 34,
      "outputs": []
    },
    {
      "cell_type": "code",
      "metadata": {
        "colab": {
          "base_uri": "https://localhost:8080/"
        },
        "id": "ngIMTVKF3A8D",
        "outputId": "ab97519a-30a3-457e-c4f3-f1bb17408d76"
      },
      "source": [
        "confidence_upper"
      ],
      "execution_count": 35,
      "outputs": [
        {
          "output_type": "execute_result",
          "data": {
            "text/plain": [
              "[205769.17861799814,\n",
              " 215809.25226027574,\n",
              " 247717.96502462332,\n",
              " 286557.69075678824,\n",
              " 325228.29788053455,\n",
              " 365677.86765809037]"
            ]
          },
          "metadata": {},
          "execution_count": 35
        }
      ]
    },
    {
      "cell_type": "markdown",
      "metadata": {
        "id": "cIeBqsfb3FAq"
      },
      "source": [
        "Plot Graph"
      ]
    },
    {
      "cell_type": "code",
      "metadata": {
        "colab": {
          "base_uri": "https://localhost:8080/",
          "height": 428
        },
        "id": "XdGQJlwp3Dp1",
        "outputId": "2f6483a0-c443-46f6-88d6-e15e8d51a479"
      },
      "source": [
        "plt.figure(figsize=(20,7))\n",
        "plt.plot(dates_train, train_values_list, color='darkorange', label=\"Train\")\n",
        "plt.plot(dates_test, test_values_list, color='red', label=\"Test\")\n",
        "plt.plot(dates_test, predictions, color='blue', label=\"Predicted\")\n",
        "plt.legend(loc=\"upper left\")\n",
        "plt.fill_between(dates_test, confidence_upper, confidence_lower, alpha=0.2)\n",
        "plt.xticks(np.arange(len(x_axis_label)), x_axis_label)\n",
        "\n",
        "plt.show()"
      ],
      "execution_count": 36,
      "outputs": [
        {
          "output_type": "display_data",
          "data": {
            "image/png": "[encoded data removed]",
            "text/plain": [
              "<Figure size 1440x504 with 1 Axes>"
            ]
          },
          "metadata": {
            "needs_background": "light"
          }
        }
      ]
    },
    {
      "cell_type": "code",
      "metadata": {
        "id": "m5MMyzRj3HcR"
      },
      "source": [
        ""
      ],
      "execution_count": 36,
      "outputs": []
    }
  ]
}