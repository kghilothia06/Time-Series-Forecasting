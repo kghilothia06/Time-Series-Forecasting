{
  "nbformat": 4,
  "nbformat_minor": 0,
  "metadata": {
    "colab": {
      "name": "14_6_2_graphs.ipynb",
      "provenance": [],
      "collapsed_sections": [],
      "authorship_tag": "ABX9TyMvKH1lkOfpCv8QFkPEOtFd",
      "include_colab_link": true
    },
    "kernelspec": {
      "name": "python3",
      "display_name": "Python 3"
    },
    "language_info": {
      "name": "python"
    }
  },
  "cells": [
    {
      "cell_type": "markdown",
      "metadata": {
        "id": "view-in-github",
        "colab_type": "text"
      },
      "source": [
        "<a href=\"https://colab.research.google.com/github/kghilothia06/Time-Series-Forecasting/blob/main/14_6_2_graphs.ipynb\" target=\"_parent\"><img src=\"https://colab.research.google.com/assets/colab-badge.svg\" alt=\"Open In Colab\"/></a>"
      ]
    },
    {
      "cell_type": "code",
      "metadata": {
        "id": "ZChpu_su48YB"
      },
      "source": [
        "#Import Libraries\n",
        "import numpy as np\n",
        "from math import sqrt\n",
        "from numpy import array\n",
        "from numpy import mean\n",
        "from numpy import std\n",
        "from pandas import DataFrame\n",
        "from pandas import concat\n",
        "from sklearn.metrics import mean_squared_error, r2_score\n",
        "from keras.models import Sequential\n",
        "from keras.layers import Dense\n",
        "from keras.layers import LSTM\n",
        "from keras.layers import TimeDistributed\n",
        "from keras.layers import Flatten\n",
        "from keras.layers.convolutional import Conv1D\n",
        "from keras.layers.convolutional import MaxPooling1D\n",
        "from matplotlib import pyplot\n",
        "from pandas import DataFrame\n",
        "from pandas import read_csv\n",
        "import matplotlib.pyplot as plt\n"
      ],
      "execution_count": 1,
      "outputs": []
    },
    {
      "cell_type": "code",
      "metadata": {
        "id": "Hm0GsyoX8x2_"
      },
      "source": [
        "# split a univariate dataset into train/test sets\n",
        "def train_test_split(data, n_test):\n",
        "  return data[:-n_test], data[-n_test:]"
      ],
      "execution_count": 2,
      "outputs": []
    },
    {
      "cell_type": "code",
      "metadata": {
        "id": "DbE_KppW8x0-"
      },
      "source": [
        "# transform list into supervised learning format\n",
        "def series_to_supervised(data, n_in, n_out=1):\n",
        "  #print(data.shape)\n",
        "  df = DataFrame(data)\n",
        "  #print(df)\n",
        "  cols = list()\n",
        "  # input sequence (t-n, ... t-1)\n",
        "  for i in range(n_in, 0, -1):\n",
        "    cols.append(df.shift(i))\n",
        "  # forecast sequence (t, t+1, ... t+n)\n",
        "  for i in range(0, n_out):\n",
        "    cols.append(df.shift(-i))\n",
        "    #print(cols)\n",
        "  # put it all together\n",
        "  agg = concat(cols, axis=1)\n",
        "  \n",
        "  #print(agg)\n",
        "  # drop rows with NaN values\n",
        "  agg.dropna(inplace=True)\n",
        "  #agg.fillna(0)\n",
        "  #print(agg)\n",
        "  return agg.values\n"
      ],
      "execution_count": 3,
      "outputs": []
    },
    {
      "cell_type": "code",
      "metadata": {
        "id": "0TDJ1ysb8xze"
      },
      "source": [
        "# root mean squared error or rmse\n",
        "def measure_rmse(actual, predicted):\n",
        "  return sqrt(mean_squared_error(actual, predicted))"
      ],
      "execution_count": 4,
      "outputs": []
    },
    {
      "cell_type": "code",
      "metadata": {
        "id": "PamKhFAX8-hV"
      },
      "source": [
        "# fit a model\n",
        "def model_fit(train, config):\n",
        "  # unpack config\n",
        "  n_seq, n_steps, n_filters, n_kernel, n_nodes, n_epochs, n_batch = config\n",
        "  n_input = n_seq * n_steps\n",
        "  # prepare data\n",
        "  data = series_to_supervised(train, n_input)\n",
        "  #print(data.shape)\n",
        "  train_x, train_y = data[:, :-1], data[:, -1]\n",
        "  #print(\"-train'\")\n",
        "  #print(train_x)\n",
        "  train_x = train_x.reshape((train_x.shape[0], n_seq, n_steps, 1))\n",
        "  #print(train_x.shape)\n",
        "  \n",
        "  # define model\n",
        "  model = Sequential()\n",
        "  model.add(TimeDistributed(Conv1D(filters=n_filters, kernel_size=n_kernel,\n",
        "  activation='relu', input_shape=(None,n_steps,1))))\n",
        "  model.add(TimeDistributed(Conv1D(filters=n_filters, kernel_size=n_kernel,\n",
        "  activation='relu')))\n",
        "  model.add(TimeDistributed(MaxPooling1D(pool_size=2)))\n",
        "  model.add(TimeDistributed(Flatten()))\n",
        "  model.add(LSTM(n_nodes, activation='relu'))\n",
        "  model.add(Dense(n_nodes, activation='relu'))\n",
        "  model.add(Dense(1))\n",
        "  model.compile(loss='mse', optimizer='adam')\n",
        "  #print(train_x)\n",
        "  # fit\n",
        "  model.fit(train_x, train_y, epochs=n_epochs, batch_size=n_batch, verbose=0)\n",
        "  return model"
      ],
      "execution_count": 5,
      "outputs": []
    },
    {
      "cell_type": "code",
      "metadata": {
        "id": "R6pWc1ZW8-fb"
      },
      "source": [
        "# forecast with a pre-fit model\n",
        "def model_predict(model, history, config):\n",
        "  # unpack config\n",
        "  n_seq, n_steps, _, _, _, _, _ = config\n",
        "  n_input = n_seq * n_steps\n",
        "  # prepare data\n",
        "  x_input = array(history[-n_input:]).reshape((1, n_seq, n_steps, 1))\n",
        "  # forecast\n",
        "  yhat = model.predict(x_input, verbose=0)\n",
        "  return yhat[0]"
      ],
      "execution_count": 6,
      "outputs": []
    },
    {
      "cell_type": "code",
      "metadata": {
        "id": "tMgChfLp8-dQ"
      },
      "source": [
        "# make predictions on test set\n",
        "def make_predictions(train, test, model, cfg):\n",
        "\n",
        "  predictions = list()\n",
        "  # seed history with training dataset\n",
        "  history = [x for x in train]\n",
        "  # step over each time-step in the test set\n",
        "  for i in range(len(test)):\n",
        "    # fit model and make forecast for history\n",
        "    yhat = model_predict(model, history, cfg)\n",
        "    #print(yhat[0])\n",
        "    # store forecast in list of predictions\n",
        "    predictions.append(yhat[0])\n",
        "    # add predicted observation to history for the next loop\n",
        "    history.append(yhat)\n",
        "\n",
        "  return predictions"
      ],
      "execution_count": 7,
      "outputs": []
    },
    {
      "cell_type": "markdown",
      "metadata": {
        "id": "188-mzeE5FaK"
      },
      "source": [
        "Read dataset"
      ]
    },
    {
      "cell_type": "code",
      "metadata": {
        "id": "wqLItZnR5ANr"
      },
      "source": [
        "df = read_csv('/content/RevenueJuly.csv')\n",
        "series = DataFrame(df['Revenue'])"
      ],
      "execution_count": 8,
      "outputs": []
    },
    {
      "cell_type": "code",
      "metadata": {
        "colab": {
          "base_uri": "https://localhost:8080/",
          "height": 1000
        },
        "id": "he0xW0WNIgBm",
        "outputId": "bef3d578-a7d0-4ca9-e014-e93e3584ae9b"
      },
      "source": [
        "series"
      ],
      "execution_count": 9,
      "outputs": [
        {
          "output_type": "execute_result",
          "data": {
            "text/html": [
              "<div>\n",
              "<style scoped>\n",
              "    .dataframe tbody tr th:only-of-type {\n",
              "        vertical-align: middle;\n",
              "    }\n",
              "\n",
              "    .dataframe tbody tr th {\n",
              "        vertical-align: top;\n",
              "    }\n",
              "\n",
              "    .dataframe thead th {\n",
              "        text-align: right;\n",
              "    }\n",
              "</style>\n",
              "<table border=\"1\" class=\"dataframe\">\n",
              "  <thead>\n",
              "    <tr style=\"text-align: right;\">\n",
              "      <th></th>\n",
              "      <th>Revenue</th>\n",
              "    </tr>\n",
              "  </thead>\n",
              "  <tbody>\n",
              "    <tr>\n",
              "      <th>0</th>\n",
              "      <td>11141.566</td>\n",
              "    </tr>\n",
              "    <tr>\n",
              "      <th>1</th>\n",
              "      <td>11483.520</td>\n",
              "    </tr>\n",
              "    <tr>\n",
              "      <th>2</th>\n",
              "      <td>89026.192</td>\n",
              "    </tr>\n",
              "    <tr>\n",
              "      <th>3</th>\n",
              "      <td>7486.732</td>\n",
              "    </tr>\n",
              "    <tr>\n",
              "      <th>4</th>\n",
              "      <td>17719.978</td>\n",
              "    </tr>\n",
              "    <tr>\n",
              "      <th>5</th>\n",
              "      <td>159129.659</td>\n",
              "    </tr>\n",
              "    <tr>\n",
              "      <th>6</th>\n",
              "      <td>16736.302</td>\n",
              "    </tr>\n",
              "    <tr>\n",
              "      <th>7</th>\n",
              "      <td>25432.066</td>\n",
              "    </tr>\n",
              "    <tr>\n",
              "      <th>8</th>\n",
              "      <td>145620.785</td>\n",
              "    </tr>\n",
              "    <tr>\n",
              "      <th>9</th>\n",
              "      <td>24954.743</td>\n",
              "    </tr>\n",
              "    <tr>\n",
              "      <th>10</th>\n",
              "      <td>42440.281</td>\n",
              "    </tr>\n",
              "    <tr>\n",
              "      <th>11</th>\n",
              "      <td>389795.301</td>\n",
              "    </tr>\n",
              "    <tr>\n",
              "      <th>12</th>\n",
              "      <td>10851.367</td>\n",
              "    </tr>\n",
              "    <tr>\n",
              "      <th>13</th>\n",
              "      <td>15156.590</td>\n",
              "    </tr>\n",
              "    <tr>\n",
              "      <th>14</th>\n",
              "      <td>92459.405</td>\n",
              "    </tr>\n",
              "    <tr>\n",
              "      <th>15</th>\n",
              "      <td>18964.489</td>\n",
              "    </tr>\n",
              "    <tr>\n",
              "      <th>16</th>\n",
              "      <td>27080.474</td>\n",
              "    </tr>\n",
              "    <tr>\n",
              "      <th>17</th>\n",
              "      <td>156189.554</td>\n",
              "    </tr>\n",
              "    <tr>\n",
              "      <th>18</th>\n",
              "      <td>22733.732</td>\n",
              "    </tr>\n",
              "    <tr>\n",
              "      <th>19</th>\n",
              "      <td>19094.521</td>\n",
              "    </tr>\n",
              "    <tr>\n",
              "      <th>20</th>\n",
              "      <td>119631.548</td>\n",
              "    </tr>\n",
              "    <tr>\n",
              "      <th>21</th>\n",
              "      <td>21636.455</td>\n",
              "    </tr>\n",
              "    <tr>\n",
              "      <th>22</th>\n",
              "      <td>64590.779</td>\n",
              "    </tr>\n",
              "    <tr>\n",
              "      <th>23</th>\n",
              "      <td>303152.060</td>\n",
              "    </tr>\n",
              "    <tr>\n",
              "      <th>24</th>\n",
              "      <td>12594.348</td>\n",
              "    </tr>\n",
              "    <tr>\n",
              "      <th>25</th>\n",
              "      <td>24780.076</td>\n",
              "    </tr>\n",
              "    <tr>\n",
              "      <th>26</th>\n",
              "      <td>116146.579</td>\n",
              "    </tr>\n",
              "    <tr>\n",
              "      <th>27</th>\n",
              "      <td>32970.437</td>\n",
              "    </tr>\n",
              "    <tr>\n",
              "      <th>28</th>\n",
              "      <td>48772.300</td>\n",
              "    </tr>\n",
              "    <tr>\n",
              "      <th>29</th>\n",
              "      <td>285241.258</td>\n",
              "    </tr>\n",
              "    <tr>\n",
              "      <th>30</th>\n",
              "      <td>27898.503</td>\n",
              "    </tr>\n",
              "    <tr>\n",
              "      <th>31</th>\n",
              "      <td>51343.677</td>\n",
              "    </tr>\n",
              "    <tr>\n",
              "      <th>32</th>\n",
              "      <td>244466.379</td>\n",
              "    </tr>\n",
              "    <tr>\n",
              "      <th>33</th>\n",
              "      <td>34864.443</td>\n",
              "    </tr>\n",
              "    <tr>\n",
              "      <th>34</th>\n",
              "      <td>73066.245</td>\n",
              "    </tr>\n",
              "    <tr>\n",
              "      <th>35</th>\n",
              "      <td>724737.205</td>\n",
              "    </tr>\n",
              "    <tr>\n",
              "      <th>36</th>\n",
              "      <td>16301.221</td>\n",
              "    </tr>\n",
              "    <tr>\n",
              "      <th>37</th>\n",
              "      <td>19769.781</td>\n",
              "    </tr>\n",
              "    <tr>\n",
              "      <th>38</th>\n",
              "      <td>119442.079</td>\n",
              "    </tr>\n",
              "    <tr>\n",
              "      <th>39</th>\n",
              "      <td>18721.319</td>\n",
              "    </tr>\n",
              "    <tr>\n",
              "      <th>40</th>\n",
              "      <td>30299.276</td>\n",
              "    </tr>\n",
              "    <tr>\n",
              "      <th>41</th>\n",
              "      <td>226961.657</td>\n",
              "    </tr>\n",
              "    <tr>\n",
              "      <th>42</th>\n",
              "      <td>25759.943</td>\n",
              "    </tr>\n",
              "    <tr>\n",
              "      <th>43</th>\n",
              "      <td>35032.793</td>\n",
              "    </tr>\n",
              "    <tr>\n",
              "      <th>44</th>\n",
              "      <td>147118.567</td>\n",
              "    </tr>\n",
              "    <tr>\n",
              "      <th>45</th>\n",
              "      <td>43656.223</td>\n",
              "    </tr>\n",
              "    <tr>\n",
              "      <th>46</th>\n",
              "      <td>54935.815</td>\n",
              "    </tr>\n",
              "    <tr>\n",
              "      <th>47</th>\n",
              "      <td>519504.737</td>\n",
              "    </tr>\n",
              "    <tr>\n",
              "      <th>48</th>\n",
              "      <td>16507.335</td>\n",
              "    </tr>\n",
              "    <tr>\n",
              "      <th>49</th>\n",
              "      <td>55265.293</td>\n",
              "    </tr>\n",
              "    <tr>\n",
              "      <th>50</th>\n",
              "      <td>132267.597</td>\n",
              "    </tr>\n",
              "    <tr>\n",
              "      <th>51</th>\n",
              "      <td>20550.787</td>\n",
              "    </tr>\n",
              "    <tr>\n",
              "      <th>52</th>\n",
              "      <td>45757.982</td>\n",
              "    </tr>\n",
              "    <tr>\n",
              "      <th>53</th>\n",
              "      <td>183715.237</td>\n",
              "    </tr>\n",
              "    <tr>\n",
              "      <th>54</th>\n",
              "      <td>74225.599</td>\n",
              "    </tr>\n",
              "  </tbody>\n",
              "</table>\n",
              "</div>"
            ],
            "text/plain": [
              "       Revenue\n",
              "0    11141.566\n",
              "1    11483.520\n",
              "2    89026.192\n",
              "3     7486.732\n",
              "4    17719.978\n",
              "5   159129.659\n",
              "6    16736.302\n",
              "7    25432.066\n",
              "8   145620.785\n",
              "9    24954.743\n",
              "10   42440.281\n",
              "11  389795.301\n",
              "12   10851.367\n",
              "13   15156.590\n",
              "14   92459.405\n",
              "15   18964.489\n",
              "16   27080.474\n",
              "17  156189.554\n",
              "18   22733.732\n",
              "19   19094.521\n",
              "20  119631.548\n",
              "21   21636.455\n",
              "22   64590.779\n",
              "23  303152.060\n",
              "24   12594.348\n",
              "25   24780.076\n",
              "26  116146.579\n",
              "27   32970.437\n",
              "28   48772.300\n",
              "29  285241.258\n",
              "30   27898.503\n",
              "31   51343.677\n",
              "32  244466.379\n",
              "33   34864.443\n",
              "34   73066.245\n",
              "35  724737.205\n",
              "36   16301.221\n",
              "37   19769.781\n",
              "38  119442.079\n",
              "39   18721.319\n",
              "40   30299.276\n",
              "41  226961.657\n",
              "42   25759.943\n",
              "43   35032.793\n",
              "44  147118.567\n",
              "45   43656.223\n",
              "46   54935.815\n",
              "47  519504.737\n",
              "48   16507.335\n",
              "49   55265.293\n",
              "50  132267.597\n",
              "51   20550.787\n",
              "52   45757.982\n",
              "53  183715.237\n",
              "54   74225.599"
            ]
          },
          "metadata": {},
          "execution_count": 9
        }
      ]
    },
    {
      "cell_type": "code",
      "metadata": {
        "colab": {
          "base_uri": "https://localhost:8080/"
        },
        "id": "-2Q1ftaY5TZS",
        "outputId": "1858fc60-2fb4-4a2a-eba6-c35f247089ac"
      },
      "source": [
        "series.shape"
      ],
      "execution_count": 10,
      "outputs": [
        {
          "output_type": "execute_result",
          "data": {
            "text/plain": [
              "(55, 1)"
            ]
          },
          "metadata": {},
          "execution_count": 10
        }
      ]
    },
    {
      "cell_type": "code",
      "metadata": {
        "colab": {
          "base_uri": "https://localhost:8080/"
        },
        "id": "CjMxugfz5UaO",
        "outputId": "349cbfe6-6424-40d2-9af0-46b7bb4b4e40"
      },
      "source": [
        "data = series.values\n",
        "data.shape"
      ],
      "execution_count": 11,
      "outputs": [
        {
          "output_type": "execute_result",
          "data": {
            "text/plain": [
              "(55, 1)"
            ]
          },
          "metadata": {},
          "execution_count": 11
        }
      ]
    },
    {
      "cell_type": "code",
      "metadata": {
        "id": "AW2DEMBT7BZF"
      },
      "source": [
        "#train-test split\n",
        "# first 48 months make the training set and remaining 7 months make test set\n",
        "n_test = 7\n",
        "train = data[:-n_test]\n",
        "test = data[-n_test:]"
      ],
      "execution_count": 12,
      "outputs": []
    },
    {
      "cell_type": "code",
      "metadata": {
        "colab": {
          "base_uri": "https://localhost:8080/"
        },
        "id": "9XSwl_Q-Gpcf",
        "outputId": "225b33cb-839d-4a43-f3b5-af1467dfa068"
      },
      "source": [
        "train.shape , test.shape"
      ],
      "execution_count": 13,
      "outputs": [
        {
          "output_type": "execute_result",
          "data": {
            "text/plain": [
              "((48, 1), (7, 1))"
            ]
          },
          "metadata": {},
          "execution_count": 13
        }
      ]
    },
    {
      "cell_type": "code",
      "metadata": {
        "id": "qYpdGAks51RY"
      },
      "source": [
        "# define config\n",
        "# n_seq: The number of subsequences within a sample.\n",
        "# n_steps: The number of time steps within each subsequence.\n",
        "# n_filters: The number of parallel filters.\n",
        "# n_kernel: The number of time steps considered in each read of the input sequence.\n",
        "# n_nodes: The number of LSTM units to use in the hidden layer.\n",
        "# n_epochs: The number of times to expose the model to the whole training dataset.\n",
        "# n_batch: The number of samples within an epoch after which the weights are updated.\n",
        "config = [1, 4, 16, 1, 64, 20, 12]"
      ],
      "execution_count": 14,
      "outputs": []
    },
    {
      "cell_type": "code",
      "metadata": {
        "id": "E7Ai8_da8dcl"
      },
      "source": [
        "# build and fit model\n",
        "model = model_fit(train, config)"
      ],
      "execution_count": 15,
      "outputs": []
    },
    {
      "cell_type": "code",
      "metadata": {
        "id": "nvh4SLc67vxJ"
      },
      "source": [
        "# make predictions\n",
        "predictions = make_predictions(train,test,model,config)"
      ],
      "execution_count": 16,
      "outputs": []
    },
    {
      "cell_type": "code",
      "metadata": {
        "colab": {
          "base_uri": "https://localhost:8080/"
        },
        "id": "xs2wYZA8tVBo",
        "outputId": "f21aff16-5f0f-4ea0-cdf6-542cec43c80f"
      },
      "source": [
        "predictions"
      ],
      "execution_count": 17,
      "outputs": [
        {
          "output_type": "execute_result",
          "data": {
            "text/plain": [
              "[41616.02, 38263.68, 198192.42, 250137.77, 21522.398, 56112.996, 109080.055]"
            ]
          },
          "metadata": {},
          "execution_count": 17
        }
      ]
    },
    {
      "cell_type": "code",
      "metadata": {
        "colab": {
          "base_uri": "https://localhost:8080/"
        },
        "id": "VyILXE_rtcLY",
        "outputId": "74e884c2-254e-4b5b-ed78-f9a7d84cbb70"
      },
      "source": [
        "test"
      ],
      "execution_count": 18,
      "outputs": [
        {
          "output_type": "execute_result",
          "data": {
            "text/plain": [
              "array([[ 16507.335],\n",
              "       [ 55265.293],\n",
              "       [132267.597],\n",
              "       [ 20550.787],\n",
              "       [ 45757.982],\n",
              "       [183715.237],\n",
              "       [ 74225.599]])"
            ]
          },
          "metadata": {},
          "execution_count": 18
        }
      ]
    },
    {
      "cell_type": "code",
      "metadata": {
        "colab": {
          "base_uri": "https://localhost:8080/"
        },
        "id": "Kdr9Pqtbh-It",
        "outputId": "edf29f31-7d72-41ec-f056-0a7caf98ad11"
      },
      "source": [
        "#Evaluate Model using r2_score and RMSE\n",
        "MSE = mean_squared_error(test, predictions)\n",
        "RMSE = int(sqrt(MSE))\n",
        "R2 = r2_score(test,predictions)\n",
        "print('RMSE : ' + str(RMSE))\n",
        "print('R square : ' + str(R2))"
      ],
      "execution_count": 19,
      "outputs": [
        {
          "output_type": "stream",
          "text": [
            "RMSE : 104238\n",
            "R square : -2.346502069951753\n"
          ],
          "name": "stdout"
        }
      ]
    },
    {
      "cell_type": "markdown",
      "metadata": {
        "id": "H3I2Qm84jiHq"
      },
      "source": [
        "Adding Graph"
      ]
    },
    {
      "cell_type": "code",
      "metadata": {
        "id": "LsaH-SGpi7HP"
      },
      "source": [
        "#set x axis labels\n",
        "vis = dict()\n",
        "\n",
        "x_axis_label = []\n",
        "\n",
        "for cur_year in df['Year']:\n",
        "  if str(cur_year) not in vis.keys():\n",
        "    vis[str(cur_year)] = 1\n",
        "    x_axis_label.append(str(cur_year))\n",
        "  \n",
        "  else:\n",
        "    x_axis_label.append('')\n",
        "  "
      ],
      "execution_count": 20,
      "outputs": []
    },
    {
      "cell_type": "code",
      "metadata": {
        "colab": {
          "base_uri": "https://localhost:8080/"
        },
        "id": "m4FZi9Q_mWIr",
        "outputId": "de06e0cb-3971-42fd-ab48-8d77a4a9a941"
      },
      "source": [
        "x_axis_label"
      ],
      "execution_count": 21,
      "outputs": [
        {
          "output_type": "execute_result",
          "data": {
            "text/plain": [
              "['2017',\n",
              " '',\n",
              " '',\n",
              " '',\n",
              " '',\n",
              " '',\n",
              " '',\n",
              " '',\n",
              " '',\n",
              " '',\n",
              " '',\n",
              " '',\n",
              " '2018',\n",
              " '',\n",
              " '',\n",
              " '',\n",
              " '',\n",
              " '',\n",
              " '',\n",
              " '',\n",
              " '',\n",
              " '',\n",
              " '',\n",
              " '',\n",
              " '2019',\n",
              " '',\n",
              " '',\n",
              " '',\n",
              " '',\n",
              " '',\n",
              " '',\n",
              " '',\n",
              " '',\n",
              " '',\n",
              " '',\n",
              " '',\n",
              " '2020',\n",
              " '',\n",
              " '',\n",
              " '',\n",
              " '',\n",
              " '',\n",
              " '',\n",
              " '',\n",
              " '',\n",
              " '',\n",
              " '',\n",
              " '',\n",
              " '2021',\n",
              " '',\n",
              " '',\n",
              " '',\n",
              " '',\n",
              " '',\n",
              " '']"
            ]
          },
          "metadata": {},
          "execution_count": 21
        }
      ]
    },
    {
      "cell_type": "markdown",
      "metadata": {
        "id": "NxkzxIadqR0X"
      },
      "source": [
        "Specify dates for training and test sets separately"
      ]
    },
    {
      "cell_type": "code",
      "metadata": {
        "colab": {
          "base_uri": "https://localhost:8080/"
        },
        "id": "XSbU7fjqowK4",
        "outputId": "0583fa59-ffdf-457d-dd4d-4a789eb025ad"
      },
      "source": [
        "dates_train = []\n",
        "for i in range(len(df)-n_test):\n",
        "  dates_train.append( str(df['Year'][i]) + \"-\" + str(df['Month'][i]) )\n",
        "\n",
        "dates_train"
      ],
      "execution_count": 22,
      "outputs": [
        {
          "output_type": "execute_result",
          "data": {
            "text/plain": [
              "['2017-1',\n",
              " '2017-2',\n",
              " '2017-3',\n",
              " '2017-4',\n",
              " '2017-5',\n",
              " '2017-6',\n",
              " '2017-7',\n",
              " '2017-8',\n",
              " '2017-9',\n",
              " '2017-10',\n",
              " '2017-11',\n",
              " '2017-12',\n",
              " '2018-1',\n",
              " '2018-2',\n",
              " '2018-3',\n",
              " '2018-4',\n",
              " '2018-5',\n",
              " '2018-6',\n",
              " '2018-7',\n",
              " '2018-8',\n",
              " '2018-9',\n",
              " '2018-10',\n",
              " '2018-11',\n",
              " '2018-12',\n",
              " '2019-1',\n",
              " '2019-2',\n",
              " '2019-3',\n",
              " '2019-4',\n",
              " '2019-5',\n",
              " '2019-6',\n",
              " '2019-7',\n",
              " '2019-8',\n",
              " '2019-9',\n",
              " '2019-10',\n",
              " '2019-11',\n",
              " '2019-12',\n",
              " '2020-1',\n",
              " '2020-2',\n",
              " '2020-3',\n",
              " '2020-4',\n",
              " '2020-5',\n",
              " '2020-6',\n",
              " '2020-7',\n",
              " '2020-8',\n",
              " '2020-9',\n",
              " '2020-10',\n",
              " '2020-11',\n",
              " '2020-12']"
            ]
          },
          "metadata": {},
          "execution_count": 22
        }
      ]
    },
    {
      "cell_type": "code",
      "metadata": {
        "colab": {
          "base_uri": "https://localhost:8080/"
        },
        "id": "uuy3bakpqcW1",
        "outputId": "8e7c9b2e-9552-4bf9-c7c8-53ec707eee18"
      },
      "source": [
        "dates_test = []\n",
        "for i in range(len(df)-n_test , len(df)):\n",
        "  dates_test.append( str(df['Year'][i]) + \"-\" + str(df['Month'][i]) )\n",
        "\n",
        "dates_test"
      ],
      "execution_count": 23,
      "outputs": [
        {
          "output_type": "execute_result",
          "data": {
            "text/plain": [
              "['2021-1', '2021-2', '2021-3', '2021-4', '2021-5', '2021-6', '2021-7']"
            ]
          },
          "metadata": {},
          "execution_count": 23
        }
      ]
    },
    {
      "cell_type": "markdown",
      "metadata": {
        "id": "oI3mm21arGIN"
      },
      "source": [
        "Compute confidence/prediction intervals"
      ]
    },
    {
      "cell_type": "code",
      "metadata": {
        "id": "FDJHwgXrqcUq"
      },
      "source": [
        "x_bar = array(test).mean()"
      ],
      "execution_count": 24,
      "outputs": []
    },
    {
      "cell_type": "code",
      "metadata": {
        "id": "CwwqyIENqcTK"
      },
      "source": [
        "sum = 0\n",
        "for i in range(n_test):\n",
        "  t = (test[i]-x_bar)**2\n",
        "  sum = sum + t"
      ],
      "execution_count": 25,
      "outputs": []
    },
    {
      "cell_type": "code",
      "metadata": {
        "id": "DtlyzH6XrKX_"
      },
      "source": [
        "def compute_std_error(xh):\n",
        "  temp1 = 1.0 + (1.0/n_test) \n",
        "  temp2 = float((xh - x_bar)**2) / sum\n",
        "  return sqrt(MSE * (temp1+temp2))"
      ],
      "execution_count": 26,
      "outputs": []
    },
    {
      "cell_type": "code",
      "metadata": {
        "id": "QNyJCVbZrNsP"
      },
      "source": [
        "confidence_upper = []\n",
        "confidence_lower = []\n",
        "t_multiplier = 2.228"
      ],
      "execution_count": 27,
      "outputs": []
    },
    {
      "cell_type": "code",
      "metadata": {
        "id": "LJEKiarDrPic"
      },
      "source": [
        "for i in range(n_test):\n",
        "  std_error = compute_std_error(test[i])\n",
        "  val = t_multiplier * std_error\n",
        "  confidence_upper.append(predictions[i] + val)\n",
        "  temp = predictions[i] - val\n",
        "  confidence_lower.append(max(temp,0))"
      ],
      "execution_count": 28,
      "outputs": []
    },
    {
      "cell_type": "code",
      "metadata": {
        "colab": {
          "base_uri": "https://localhost:8080/"
        },
        "id": "cuDYtEi-sSkp",
        "outputId": "ea123191-8762-4ae3-de4e-eb91918f133c"
      },
      "source": [
        "confidence_upper"
      ],
      "execution_count": 29,
      "outputs": [
        {
          "output_type": "execute_result",
          "data": {
            "text/plain": [
              "[305989.2994850592,\n",
              " 288486.7263808753,\n",
              " 461438.44193276024,\n",
              " 512436.17897351214,\n",
              " 273985.8657383919,\n",
              " 355193.1871325846,\n",
              " 357367.1115991019]"
            ]
          },
          "metadata": {},
          "execution_count": 29
        }
      ]
    },
    {
      "cell_type": "markdown",
      "metadata": {
        "id": "RLc7ReosrWO3"
      },
      "source": [
        "Plot graph"
      ]
    },
    {
      "cell_type": "code",
      "metadata": {
        "colab": {
          "base_uri": "https://localhost:8080/",
          "height": 428
        },
        "id": "1v351XSbrTpC",
        "outputId": "af2e83b5-5d9d-4314-aa11-0785dd4138e6"
      },
      "source": [
        "plt.figure(figsize=(20,7))\n",
        "plt.plot(dates_train, train, color='darkorange', label=\"Train\")\n",
        "plt.plot(dates_test, test, color='red', label=\"Test\")\n",
        "plt.plot(dates_test, predictions, color='blue', label=\"Predicted\")\n",
        "plt.legend(loc=\"upper left\")\n",
        "plt.fill_between(dates_test, confidence_upper, confidence_lower, alpha=0.2)\n",
        "plt.xticks(np.arange(len(x_axis_label)), x_axis_label)\n",
        "\n",
        "plt.show()"
      ],
      "execution_count": 30,
      "outputs": [
        {
          "output_type": "display_data",
          "data": {
            "image/png": "[encoded data removed]",
            "text/plain": [
              "<Figure size 1440x504 with 1 Axes>"
            ]
          },
          "metadata": {
            "needs_background": "light"
          }
        }
      ]
    },
    {
      "cell_type": "code",
      "metadata": {
        "id": "u5Hdd40srY0g"
      },
      "source": [
        ""
      ],
      "execution_count": 30,
      "outputs": []
    }
  ]
}