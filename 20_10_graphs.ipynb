{
  "nbformat": 4,
  "nbformat_minor": 0,
  "metadata": {
    "colab": {
      "name": "20_10_graphs.ipynb",
      "provenance": [],
      "authorship_tag": "ABX9TyMNg6smuK+iq2pKZO5WzQDz",
      "include_colab_link": true
    },
    "kernelspec": {
      "name": "python3",
      "display_name": "Python 3"
    },
    "language_info": {
      "name": "python"
    }
  },
  "cells": [
    {
      "cell_type": "markdown",
      "metadata": {
        "id": "view-in-github",
        "colab_type": "text"
      },
      "source": [
        "<a href=\"https://colab.research.google.com/github/kghilothia06/Time-Series-Forecasting/blob/main/20_10_graphs.ipynb\" target=\"_parent\"><img src=\"https://colab.research.google.com/assets/colab-badge.svg\" alt=\"Open In Colab\"/></a>"
      ]
    },
    {
      "cell_type": "code",
      "metadata": {
        "id": "MgdJ0Q59vYnl"
      },
      "source": [
        "#Import Libraries\n",
        "from math import sqrt\n",
        "from numpy import split\n",
        "from numpy import array\n",
        "from pandas import read_csv, DataFrame\n",
        "from sklearn.metrics import mean_squared_error, r2_score\n",
        "from matplotlib import pyplot as plt\n",
        "import numpy as np\n",
        "from keras.models import Sequential\n",
        "from keras.layers import Dense\n",
        "from keras.layers import Flatten\n",
        "from keras.layers import LSTM\n",
        "from keras.layers import RepeatVector\n",
        "from keras.layers import TimeDistributed\n",
        "from keras.layers import ConvLSTM2D"
      ],
      "execution_count": 1,
      "outputs": []
    },
    {
      "cell_type": "code",
      "metadata": {
        "id": "0pZzcumRvoi8"
      },
      "source": [
        "# split a univariate dataset into train/test sets\n",
        "def split_dataset(data, partition):\n",
        "  # split into 'n_test' partitions\n",
        "  train = data[:-partition]\n",
        "  test = data[-partition:]\n",
        "  train_original = train\n",
        "  test_original = test\n",
        "\n",
        "  # apply padding (if required) in order to split train and test array in equal windows\n",
        "  if len(train) % partition != 0:\n",
        "    pad_width = partition - (len(train) % partition)\n",
        "    train = np.pad(train, (0,pad_width), 'constant', constant_values=(array(train).mean()))\n",
        "\n",
        "  if len(test) % partition != 0:\n",
        "    pad_width = partition - (len(test) % partition)\n",
        "    test = np.pad(test, (0,pad_width), 'constant', constant_values=(array(test).mean()))\n",
        "    \n",
        "  # restructure into windows of quarterly data\n",
        "  train = array(split(train, int(len(train)/partition)))\n",
        "  test = array(split(test, int(len(test)/partition)))\n",
        "  return train, test, train_original, test_original\n",
        "  #return train, test"
      ],
      "execution_count": 2,
      "outputs": []
    },
    {
      "cell_type": "code",
      "metadata": {
        "id": "Hu_hAlUdvvtY"
      },
      "source": [
        "# evaluate one or more forecasts against expected values\n",
        "def evaluate_forecasts(actual, predicted):\n",
        "\tscores = list()\n",
        "\t# calculate an RMSE score for each \n",
        "\tfor i in range(actual.shape[1]):\n",
        "\t\t# calculate mse\n",
        "\t\tmse = mean_squared_error(actual[:, i], predicted[:, i])\n",
        "\t\t# calculate rmse\n",
        "\t\trmse = sqrt(mse)\n",
        "\t\t# store\n",
        "\t\tscores.append(rmse)\n",
        "\t# calculate overall RMSE\n",
        "\ts = 0\n",
        "\tfor row in range(actual.shape[0]):\n",
        "\t\tfor col in range(actual.shape[1]):\n",
        "\t\t\ts += (actual[row, col] - predicted[row, col])**2\n",
        "\tscore = sqrt(s / (actual.shape[0] * actual.shape[1]))\n",
        "\treturn score, scores\n"
      ],
      "execution_count": 3,
      "outputs": []
    },
    {
      "cell_type": "code",
      "metadata": {
        "id": "OPB5HkPKvxb8"
      },
      "source": [
        "# summarize scores\n",
        "def summarize_scores(name, score, scores):\n",
        "\ts_scores = ', '.join(['%.1f' % s for s in scores])\n",
        "\tprint('%s: [%.3f] %s' % (name, score, s_scores))\n"
      ],
      "execution_count": 4,
      "outputs": []
    },
    {
      "cell_type": "code",
      "metadata": {
        "id": "m8tqKi_1vzTV"
      },
      "source": [
        "# convert history into inputs and outputs\n",
        "def to_supervised(train, n_input, n_out):\n",
        "\t# flatten data\n",
        "\tdata = train.reshape((train.shape[0]*train.shape[1], train.shape[2]))\n",
        "\tX, y = list(), list()\n",
        "\tin_start = 0\n",
        "\t# step over the entire history one time step at a time\n",
        "\tfor _ in range(len(data)):\n",
        "\t\t# define the end of the input sequence\n",
        "\t\tin_end = in_start + n_input\n",
        "\t\tout_end = in_end + n_out\n",
        "\t\t# ensure we have enough data for this instance\n",
        "\t\tif out_end < len(data):\n",
        "\t\t\tx_input = data[in_start:in_end, 0]\n",
        "\t\t\tx_input = x_input.reshape((len(x_input), 1))\n",
        "\t\t\tX.append(x_input)\n",
        "\t\t\ty.append(data[in_end:out_end, 0])\n",
        "\t\t# move along one time step\n",
        "\t\tin_start += 1\n",
        "\treturn array(X), array(y)\n"
      ],
      "execution_count": 5,
      "outputs": []
    },
    {
      "cell_type": "code",
      "metadata": {
        "id": "hrkuMGFzv1kf"
      },
      "source": [
        "# train the model\n",
        "def build_model(train, n_steps, n_length, n_input, n_out):\n",
        "\t# prepare data\n",
        "\ttrain_x, train_y = to_supervised(train, n_input, n_out)\n",
        "\t# define parameters\n",
        "\tverbose, epochs, batch_size = 0, 20, 12\n",
        "\tn_features, n_outputs = train_x.shape[2], train_y.shape[1]\n",
        "\t# reshape into subsequences [samples, timesteps, rows, cols, channels]\n",
        "\ttrain_x = train_x.reshape((train_x.shape[0], n_steps, 1, n_length, n_features))\n",
        "\t# reshape output into [samples, timesteps, features]\n",
        "\ttrain_y = train_y.reshape((train_y.shape[0], train_y.shape[1], 1))\n",
        "\t# define model\n",
        "\tmodel = Sequential()\n",
        "\tmodel.add(ConvLSTM2D(filters=64, kernel_size=(1,3), activation='relu', input_shape=(n_steps, 1, n_length, n_features)))\n",
        "\tmodel.add(Flatten())\n",
        "\tmodel.add(RepeatVector(n_outputs))\n",
        "\tmodel.add(LSTM(200, activation='relu', return_sequences=True))\n",
        "\tmodel.add(TimeDistributed(Dense(100, activation='relu')))\n",
        "\tmodel.add(TimeDistributed(Dense(1)))\n",
        "\tmodel.compile(loss='mse', optimizer='adam')\n",
        "\t# fit network\n",
        "\tmodel.fit(train_x, train_y, epochs=epochs, batch_size=batch_size, verbose=verbose)\n",
        "\treturn model"
      ],
      "execution_count": 6,
      "outputs": []
    },
    {
      "cell_type": "code",
      "metadata": {
        "id": "QpDG4GPmv3Y3"
      },
      "source": [
        "# make a forecast\n",
        "def forecast(model, history, n_steps, n_length, n_input):\n",
        "\t# flatten data\n",
        "\tdata = array(history)\n",
        "\tdata = data.reshape((data.shape[0]*data.shape[1], data.shape[2]))\n",
        "\t# retrieve last observations for input data\n",
        "\tinput_x = data[-n_input:, 0]\n",
        "\t# reshape into [samples, timesteps, rows, cols, channels]\n",
        "\tinput_x = input_x.reshape((1, n_steps, 1, n_length, 1))\n",
        "\t# forecast the next sequence\n",
        "\tyhat = model.predict(input_x, verbose=0)\n",
        "\t# we only want the vector forecast\n",
        "\tyhat = yhat[0]\n",
        "\treturn yhat"
      ],
      "execution_count": 7,
      "outputs": []
    },
    {
      "cell_type": "code",
      "metadata": {
        "id": "2OaMFgg0v5fq"
      },
      "source": [
        "# evaluate a single model\n",
        "def evaluate_model(train, test, n_steps, n_length, n_input, n_out):\n",
        "\t# fit model\n",
        "\tmodel = build_model(train, n_steps, n_length, n_input, n_out)\n",
        "\t# history is a list of data\n",
        "\thistory = [x for x in train]\n",
        "\t# walk-forward validation over each window\n",
        "\tpredictions = list()\n",
        "\tfor i in range(len(test)):\n",
        "\t\t# predict the sequence\n",
        "\t\tyhat_sequence = forecast(model, history, n_steps, n_length, n_input)\n",
        "\t\t# store the predictions\n",
        "\t\tpredictions.append(yhat_sequence)\n",
        "\t\t# get predicted observation and add to history for predicting the next sequence\n",
        "\t\thistory.append(yhat_sequence)\n",
        "\t# evaluate predictions days for each sequence\n",
        "\tpredictions = array(predictions)\n",
        "\tscore, scores = evaluate_forecasts(test[:, :, 0], predictions)\n",
        "\treturn score, scores, predictions"
      ],
      "execution_count": 8,
      "outputs": []
    },
    {
      "cell_type": "markdown",
      "metadata": {
        "id": "g37UL_h_v7jd"
      },
      "source": [
        "Read Dataset"
      ]
    },
    {
      "cell_type": "code",
      "metadata": {
        "id": "xpJN-WcZv7Hv"
      },
      "source": [
        "df = read_csv('/content/RevenueJuly.csv')\n",
        "series = DataFrame(df['Revenue'])\n",
        "data = series.values"
      ],
      "execution_count": 9,
      "outputs": []
    },
    {
      "cell_type": "code",
      "metadata": {
        "id": "q5543gh6wDUh"
      },
      "source": [
        "partition = 7\n",
        "train, test, train_original, test_original = split_dataset(data, partition)"
      ],
      "execution_count": 10,
      "outputs": []
    },
    {
      "cell_type": "code",
      "metadata": {
        "colab": {
          "base_uri": "https://localhost:8080/"
        },
        "id": "0uEyCMsUwFKi",
        "outputId": "be9a1d6c-8e2c-415c-cba1-94b017d7038e"
      },
      "source": [
        "train.shape, test.shape"
      ],
      "execution_count": 11,
      "outputs": [
        {
          "output_type": "execute_result",
          "data": {
            "text/plain": [
              "((7, 7, 2), (1, 7, 1))"
            ]
          },
          "metadata": {},
          "execution_count": 11
        }
      ]
    },
    {
      "cell_type": "code",
      "metadata": {
        "colab": {
          "base_uri": "https://localhost:8080/"
        },
        "id": "gwKDv1KdwIpi",
        "outputId": "4bfadf91-6c2b-4ce9-827d-d9fabd7fff2b"
      },
      "source": [
        "train_original.shape, test_original.shape"
      ],
      "execution_count": 12,
      "outputs": [
        {
          "output_type": "execute_result",
          "data": {
            "text/plain": [
              "((48, 1), (7, 1))"
            ]
          },
          "metadata": {},
          "execution_count": 12
        }
      ]
    },
    {
      "cell_type": "code",
      "metadata": {
        "id": "jTGLiGaywMAH"
      },
      "source": [
        "# define the number of subsequences and the length of subsequences\n",
        "n_steps, n_length = 1, 12\n",
        "n_out = 7\n",
        "# define the total days to use as input\n",
        "n_input = n_length * n_steps"
      ],
      "execution_count": 13,
      "outputs": []
    },
    {
      "cell_type": "code",
      "metadata": {
        "colab": {
          "base_uri": "https://localhost:8080/"
        },
        "id": "fTX1-42owQsp",
        "outputId": "f61acb31-616e-4c79-c067-9f9872d0f837"
      },
      "source": [
        "score, scores, pred = evaluate_model(train, test, n_steps, n_length, n_input, n_out)\n",
        "# summarize scores\n",
        "summarize_scores('lstm', score, scores)"
      ],
      "execution_count": 14,
      "outputs": [
        {
          "output_type": "stream",
          "text": [
            "lstm: [57120.260] 32850.5, 30896.7, 74583.4, 82723.7, 4022.8, 89476.9, 19419.4\n"
          ],
          "name": "stdout"
        }
      ]
    },
    {
      "cell_type": "code",
      "metadata": {
        "colab": {
          "base_uri": "https://localhost:8080/",
          "height": 265
        },
        "id": "gEzDg67exxxe",
        "outputId": "a41bacfb-e22d-4004-eda6-bd804b4f8d30"
      },
      "source": [
        "# plot scores\n",
        "month_list = ['Jan', 'Feb', 'Mar', 'Apr', 'May', 'Jun', 'Jul']\n",
        "plt.plot(month_list, scores, marker='o', label='lstm')\n",
        "plt.show()"
      ],
      "execution_count": 15,
      "outputs": [
        {
          "output_type": "display_data",
          "data": {
            "image/png": "[encoded data removed]",
            "text/plain": [
              "<Figure size 432x288 with 1 Axes>"
            ]
          },
          "metadata": {
            "needs_background": "light"
          }
        }
      ]
    },
    {
      "cell_type": "markdown",
      "metadata": {
        "id": "N4vLEcdxyCrT"
      },
      "source": [
        "convert predicted, train and test values to a list"
      ]
    },
    {
      "cell_type": "code",
      "metadata": {
        "colab": {
          "base_uri": "https://localhost:8080/"
        },
        "id": "vNnbGixHx3AZ",
        "outputId": "3798d6d3-b339-4c70-f110-ae651c5dab17"
      },
      "source": [
        "predictions = pred.reshape(-1).tolist()\n",
        "predictions"
      ],
      "execution_count": 16,
      "outputs": [
        {
          "output_type": "execute_result",
          "data": {
            "text/plain": [
              "[49357.80859375,\n",
              " 86161.9453125,\n",
              " 57684.16796875,\n",
              " 103274.4453125,\n",
              " 49780.76953125,\n",
              " 94238.2890625,\n",
              " 54806.1875]"
            ]
          },
          "metadata": {},
          "execution_count": 16
        }
      ]
    },
    {
      "cell_type": "code",
      "metadata": {
        "colab": {
          "base_uri": "https://localhost:8080/"
        },
        "id": "XZNIUMWxyFPc",
        "outputId": "c38d4d72-bf51-4579-896a-9948853e8aa0"
      },
      "source": [
        "test_values_list = test_original.reshape(-1).tolist()\n",
        "test_values_list"
      ],
      "execution_count": 17,
      "outputs": [
        {
          "output_type": "execute_result",
          "data": {
            "text/plain": [
              "[16507.335,\n",
              " 55265.293,\n",
              " 132267.59699999998,\n",
              " 20550.787,\n",
              " 45757.982,\n",
              " 183715.237,\n",
              " 74225.599]"
            ]
          },
          "metadata": {},
          "execution_count": 17
        }
      ]
    },
    {
      "cell_type": "code",
      "metadata": {
        "colab": {
          "base_uri": "https://localhost:8080/"
        },
        "id": "cnqsRuv7yawp",
        "outputId": "b9bd87c2-17f0-429a-aa90-252098accd0c"
      },
      "source": [
        "train_values_list = train_original.reshape(-1).tolist()\n",
        "train_values_list"
      ],
      "execution_count": 18,
      "outputs": [
        {
          "output_type": "execute_result",
          "data": {
            "text/plain": [
              "[11141.566,\n",
              " 11483.52,\n",
              " 89026.192,\n",
              " 7486.732,\n",
              " 17719.978,\n",
              " 159129.659,\n",
              " 16736.302,\n",
              " 25432.066000000003,\n",
              " 145620.785,\n",
              " 24954.743,\n",
              " 42440.280999999995,\n",
              " 389795.30100000004,\n",
              " 10851.367,\n",
              " 15156.59,\n",
              " 92459.405,\n",
              " 18964.488999999998,\n",
              " 27080.474,\n",
              " 156189.554,\n",
              " 22733.732000000004,\n",
              " 19094.521,\n",
              " 119631.54800000001,\n",
              " 21636.455,\n",
              " 64590.779,\n",
              " 303152.06,\n",
              " 12594.348,\n",
              " 24780.076,\n",
              " 116146.579,\n",
              " 32970.437000000005,\n",
              " 48772.3,\n",
              " 285241.25800000003,\n",
              " 27898.502999999997,\n",
              " 51343.677,\n",
              " 244466.379,\n",
              " 34864.443,\n",
              " 73066.245,\n",
              " 724737.205,\n",
              " 16301.221000000001,\n",
              " 19769.781000000003,\n",
              " 119442.079,\n",
              " 18721.319,\n",
              " 30299.276,\n",
              " 226961.657,\n",
              " 25759.943,\n",
              " 35032.793,\n",
              " 147118.56699999998,\n",
              " 43656.223,\n",
              " 54935.815,\n",
              " 519504.737]"
            ]
          },
          "metadata": {},
          "execution_count": 18
        }
      ]
    },
    {
      "cell_type": "code",
      "metadata": {
        "colab": {
          "base_uri": "https://localhost:8080/"
        },
        "id": "d-VuHQUQyavo",
        "outputId": "2f40bbb8-adea-4c10-8096-d8bf8aa0d88d"
      },
      "source": [
        "#Evaluate Model using r2_score and RMSE\n",
        "MSE = mean_squared_error(test_values_list, predictions)\n",
        "RMSE = int(sqrt(MSE))\n",
        "R2 = r2_score(test_values_list,predictions)\n",
        "print('RMSE : ' + str(RMSE))\n",
        "print('R square : ' + str(R2))"
      ],
      "execution_count": 19,
      "outputs": [
        {
          "output_type": "stream",
          "text": [
            "RMSE : 57120\n",
            "R square : -0.004873745457149914\n"
          ],
          "name": "stdout"
        }
      ]
    },
    {
      "cell_type": "code",
      "metadata": {
        "id": "ffmeDUGNyfIK"
      },
      "source": [
        "#set x axis labels\n",
        "vis = dict()\n",
        "\n",
        "x_axis_label = []\n",
        "\n",
        "for cur_year in df['Year']:\n",
        "  if str(cur_year) not in vis.keys():\n",
        "    vis[str(cur_year)] = 1\n",
        "    x_axis_label.append(str(cur_year))\n",
        "  \n",
        "  else:\n",
        "    x_axis_label.append('')\n",
        "  "
      ],
      "execution_count": 20,
      "outputs": []
    },
    {
      "cell_type": "code",
      "metadata": {
        "colab": {
          "base_uri": "https://localhost:8080/"
        },
        "id": "KD9lAfPNyfGO",
        "outputId": "65a076c2-babf-49c7-faba-1275bf3523fc"
      },
      "source": [
        "x_axis_label"
      ],
      "execution_count": 21,
      "outputs": [
        {
          "output_type": "execute_result",
          "data": {
            "text/plain": [
              "['2017',\n",
              " '',\n",
              " '',\n",
              " '',\n",
              " '',\n",
              " '',\n",
              " '',\n",
              " '',\n",
              " '',\n",
              " '',\n",
              " '',\n",
              " '',\n",
              " '2018',\n",
              " '',\n",
              " '',\n",
              " '',\n",
              " '',\n",
              " '',\n",
              " '',\n",
              " '',\n",
              " '',\n",
              " '',\n",
              " '',\n",
              " '',\n",
              " '2019',\n",
              " '',\n",
              " '',\n",
              " '',\n",
              " '',\n",
              " '',\n",
              " '',\n",
              " '',\n",
              " '',\n",
              " '',\n",
              " '',\n",
              " '',\n",
              " '2020',\n",
              " '',\n",
              " '',\n",
              " '',\n",
              " '',\n",
              " '',\n",
              " '',\n",
              " '',\n",
              " '',\n",
              " '',\n",
              " '',\n",
              " '',\n",
              " '2021',\n",
              " '',\n",
              " '',\n",
              " '',\n",
              " '',\n",
              " '',\n",
              " '']"
            ]
          },
          "metadata": {},
          "execution_count": 21
        }
      ]
    },
    {
      "cell_type": "markdown",
      "metadata": {
        "id": "otPq2ObCylmB"
      },
      "source": [
        "specify dates"
      ]
    },
    {
      "cell_type": "code",
      "metadata": {
        "colab": {
          "base_uri": "https://localhost:8080/"
        },
        "id": "kZpZHN3HyfEr",
        "outputId": "c3c3160f-15f3-4c54-975f-d61ec00fbd62"
      },
      "source": [
        "dates_train = []\n",
        "for i in range(len(df)-partition):\n",
        "  dates_train.append( str(df['Year'][i]) + \"-\" + str(df['Month'][i]) )\n",
        "\n",
        "dates_train"
      ],
      "execution_count": 22,
      "outputs": [
        {
          "output_type": "execute_result",
          "data": {
            "text/plain": [
              "['2017-1',\n",
              " '2017-2',\n",
              " '2017-3',\n",
              " '2017-4',\n",
              " '2017-5',\n",
              " '2017-6',\n",
              " '2017-7',\n",
              " '2017-8',\n",
              " '2017-9',\n",
              " '2017-10',\n",
              " '2017-11',\n",
              " '2017-12',\n",
              " '2018-1',\n",
              " '2018-2',\n",
              " '2018-3',\n",
              " '2018-4',\n",
              " '2018-5',\n",
              " '2018-6',\n",
              " '2018-7',\n",
              " '2018-8',\n",
              " '2018-9',\n",
              " '2018-10',\n",
              " '2018-11',\n",
              " '2018-12',\n",
              " '2019-1',\n",
              " '2019-2',\n",
              " '2019-3',\n",
              " '2019-4',\n",
              " '2019-5',\n",
              " '2019-6',\n",
              " '2019-7',\n",
              " '2019-8',\n",
              " '2019-9',\n",
              " '2019-10',\n",
              " '2019-11',\n",
              " '2019-12',\n",
              " '2020-1',\n",
              " '2020-2',\n",
              " '2020-3',\n",
              " '2020-4',\n",
              " '2020-5',\n",
              " '2020-6',\n",
              " '2020-7',\n",
              " '2020-8',\n",
              " '2020-9',\n",
              " '2020-10',\n",
              " '2020-11',\n",
              " '2020-12']"
            ]
          },
          "metadata": {},
          "execution_count": 22
        }
      ]
    },
    {
      "cell_type": "code",
      "metadata": {
        "colab": {
          "base_uri": "https://localhost:8080/"
        },
        "id": "a11KUsZOyfC2",
        "outputId": "f3e0617f-a31b-41ed-8f1a-53c7d7beebbc"
      },
      "source": [
        "dates_test = []\n",
        "for i in range(len(df)-partition , len(df)):\n",
        "  dates_test.append( str(df['Year'][i]) + \"-\" + str(df['Month'][i]) )\n",
        "\n",
        "dates_test"
      ],
      "execution_count": 23,
      "outputs": [
        {
          "output_type": "execute_result",
          "data": {
            "text/plain": [
              "['2021-1', '2021-2', '2021-3', '2021-4', '2021-5', '2021-6', '2021-7']"
            ]
          },
          "metadata": {},
          "execution_count": 23
        }
      ]
    },
    {
      "cell_type": "markdown",
      "metadata": {
        "id": "tnTW1K88yuBq"
      },
      "source": [
        "Compute confidence/prediction interval"
      ]
    },
    {
      "cell_type": "code",
      "metadata": {
        "id": "sIfXgOjqyq6w"
      },
      "source": [
        "x_bar = array(test_values_list).mean()"
      ],
      "execution_count": 24,
      "outputs": []
    },
    {
      "cell_type": "code",
      "metadata": {
        "id": "QTOLf5BJyq41"
      },
      "source": [
        "sum = 0\n",
        "for i in range(partition):\n",
        "  t = (test_values_list[i]-x_bar)**2\n",
        "  sum = sum + t"
      ],
      "execution_count": 25,
      "outputs": []
    },
    {
      "cell_type": "code",
      "metadata": {
        "id": "T5NTiv0uyq26"
      },
      "source": [
        "def compute_std_error(xh):\n",
        "  temp1 = 1.0 + (1.0/partition) \n",
        "  temp2 = float((xh - x_bar)**2) / sum\n",
        "  return sqrt(MSE * (temp1+temp2))"
      ],
      "execution_count": 26,
      "outputs": []
    },
    {
      "cell_type": "code",
      "metadata": {
        "id": "6aAdPNfEyqzl"
      },
      "source": [
        "confidence_upper = []\n",
        "confidence_lower = []\n",
        "t_multiplier = 2.228"
      ],
      "execution_count": 27,
      "outputs": []
    },
    {
      "cell_type": "code",
      "metadata": {
        "id": "0bp_5eDoyqxl"
      },
      "source": [
        "for i in range(partition):\n",
        "  std_error = compute_std_error(test_values_list[i])\n",
        "  val = t_multiplier * std_error\n",
        "  confidence_upper.append(predictions[i] + val)\n",
        "  temp = predictions[i] - val\n",
        "  confidence_lower.append(max(temp,0))"
      ],
      "execution_count": 28,
      "outputs": []
    },
    {
      "cell_type": "code",
      "metadata": {
        "colab": {
          "base_uri": "https://localhost:8080/"
        },
        "id": "-QEiQsfny7nU",
        "outputId": "409237ec-f8ea-4efa-a330-c67efb00fb6c"
      },
      "source": [
        "confidence_upper"
      ],
      "execution_count": 29,
      "outputs": [
        {
          "output_type": "execute_result",
          "data": {
            "text/plain": [
              "[194227.57501929862,\n",
              " 223277.74739012262,\n",
              " 201936.22492732815,\n",
              " 247007.23813570093,\n",
              " 188124.26455183048,\n",
              " 258126.55124192507,\n",
              " 190861.11690721978]"
            ]
          },
          "metadata": {},
          "execution_count": 29
        }
      ]
    },
    {
      "cell_type": "markdown",
      "metadata": {
        "id": "xOaKqmPFy_qG"
      },
      "source": [
        "Plot Graph"
      ]
    },
    {
      "cell_type": "code",
      "metadata": {
        "colab": {
          "base_uri": "https://localhost:8080/",
          "height": 428
        },
        "id": "iKmRLLRby7ku",
        "outputId": "c171fc7d-10dd-4f1f-a6e2-658d6c65b7c8"
      },
      "source": [
        "plt.figure(figsize=(20,7))\n",
        "plt.plot(dates_train, train_values_list, color='darkorange', label=\"Train\")\n",
        "plt.plot(dates_test, test_values_list, color='red', label=\"Test\")\n",
        "plt.plot(dates_test, predictions, color='blue', label=\"Predicted\")\n",
        "plt.legend(loc=\"upper left\")\n",
        "plt.fill_between(dates_test, confidence_upper, confidence_lower, alpha=0.2)\n",
        "plt.xticks(np.arange(len(x_axis_label)), x_axis_label)\n",
        "\n",
        "plt.show()"
      ],
      "execution_count": 30,
      "outputs": [
        {
          "output_type": "display_data",
          "data": {
            "image/png": "[encoded data removed]",
            "text/plain": [
              "<Figure size 1440x504 with 1 Axes>"
            ]
          },
          "metadata": {
            "needs_background": "light"
          }
        }
      ]
    },
    {
      "cell_type": "code",
      "metadata": {
        "id": "k_kX6vPMy7jJ"
      },
      "source": [
        ""
      ],
      "execution_count": 30,
      "outputs": []
    }
  ]
}