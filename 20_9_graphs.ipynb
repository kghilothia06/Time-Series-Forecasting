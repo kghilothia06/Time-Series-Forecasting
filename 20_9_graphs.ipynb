{
  "nbformat": 4,
  "nbformat_minor": 0,
  "metadata": {
    "colab": {
      "name": "20_9_graphs.ipynb",
      "provenance": [],
      "collapsed_sections": []
    },
    "kernelspec": {
      "name": "python3",
      "display_name": "Python 3"
    },
    "language_info": {
      "name": "python"
    }
  },
  "cells": [
    {
      "cell_type": "code",
      "metadata": {
        "id": "4J6FJmDQfAow"
      },
      "source": [
        "# Import Libraries\n",
        "import numpy as np\n",
        "from math import sqrt\n",
        "from numpy import split\n",
        "from numpy import array\n",
        "from pandas import read_csv, DataFrame\n",
        "from sklearn.metrics import mean_squared_error, r2_score\n",
        "from matplotlib import pyplot as plt\n",
        "from keras.models import Sequential\n",
        "from keras.layers import Dense\n",
        "from keras.layers import Flatten\n",
        "from keras.layers import LSTM\n",
        "from keras.layers import RepeatVector\n",
        "from keras.layers import TimeDistributed\n",
        "from keras.layers.convolutional import Conv1D\n",
        "from keras.layers.convolutional import MaxPooling1D"
      ],
      "execution_count": 1,
      "outputs": []
    },
    {
      "cell_type": "code",
      "metadata": {
        "id": "DXm71p-kfK0V"
      },
      "source": [
        "# split a univariate dataset into train/test sets\n",
        "def split_dataset(data, partition):\n",
        "  # split into 'n_test' partitions\n",
        "  train = data[:-partition]\n",
        "  test = data[-partition:]\n",
        "  train_original = train\n",
        "  test_original = test\n",
        "\n",
        "  # apply padding (if required) in order to split train and test array in equal windows\n",
        "  if len(train) % partition != 0:\n",
        "    pad_width = partition - (len(train) % partition)\n",
        "    train = np.pad(train, (0,pad_width), 'constant', constant_values=(array(train).mean()))\n",
        "\n",
        "  if len(test) % partition != 0:\n",
        "    pad_width = partition - (len(test) % partition)\n",
        "    test = np.pad(test, (0,pad_width), 'constant', constant_values=(array(test).mean()))\n",
        "    \n",
        "  # restructure into windows of quarterly data\n",
        "  train = array(split(train, int(len(train)/partition)))\n",
        "  test = array(split(test, int(len(test)/partition)))\n",
        "  return train, test, train_original, test_original\n",
        "  #return train, test"
      ],
      "execution_count": 2,
      "outputs": []
    },
    {
      "cell_type": "code",
      "metadata": {
        "id": "hzBeP7xVgBzz"
      },
      "source": [
        "# evaluate one or more forecasts against expected values\n",
        "def evaluate_forecasts(actual, predicted):\n",
        "\tscores = list()\n",
        "\t# calculate an RMSE score for each day\n",
        "\tfor i in range(actual.shape[1]):\n",
        "\t\t# calculate mse\n",
        "\t\tmse = mean_squared_error(actual[:, i], predicted[:, i])\n",
        "\t\t# calculate rmse\n",
        "\t\trmse = sqrt(mse)\n",
        "\t\t# store\n",
        "\t\tscores.append(rmse)\n",
        "\t# calculate overall RMSE\n",
        "\ts = 0\n",
        "\tfor row in range(actual.shape[0]):\n",
        "\t\tfor col in range(actual.shape[1]):\n",
        "\t\t\ts += (actual[row, col] - predicted[row, col])**2\n",
        "\tscore = sqrt(s / (actual.shape[0] * actual.shape[1]))\n",
        "\treturn score, scores"
      ],
      "execution_count": 3,
      "outputs": []
    },
    {
      "cell_type": "code",
      "metadata": {
        "id": "I7MZrolmgG6S"
      },
      "source": [
        "# summarize scores\n",
        "def summarize_scores(name, score, scores):\n",
        "\ts_scores = ', '.join(['%.1f' % s for s in scores])\n",
        "\tprint('%s: [%.3f] %s' % (name, score, s_scores))\n"
      ],
      "execution_count": 4,
      "outputs": []
    },
    {
      "cell_type": "code",
      "metadata": {
        "id": "EKaswNWwgJ7n"
      },
      "source": [
        "# convert history into inputs and outputs\n",
        "def to_supervised(train, n_input, n_out):\n",
        "\t# flatten data\n",
        "\tdata = train.reshape((train.shape[0]*train.shape[1], train.shape[2]))\n",
        "\tX, y = list(), list()\n",
        "\tin_start = 0\n",
        "\t# step over the entire history one time step at a time\n",
        "\tfor _ in range(len(data)):\n",
        "\t\t# define the end of the input sequence\n",
        "\t\tin_end = in_start + n_input\n",
        "\t\tout_end = in_end + n_out\n",
        "\t\t# ensure we have enough data for this instance\n",
        "\t\tif out_end < len(data):\n",
        "\t\t\tx_input = data[in_start:in_end, 0]\n",
        "\t\t\tx_input = x_input.reshape((len(x_input), 1))\n",
        "\t\t\tX.append(x_input)\n",
        "\t\t\ty.append(data[in_end:out_end, 0])\n",
        "\t\t# move along one time step\n",
        "\t\tin_start += 1\n",
        "\treturn array(X), array(y)\n"
      ],
      "execution_count": 5,
      "outputs": []
    },
    {
      "cell_type": "code",
      "metadata": {
        "id": "zEnM1q-HgLno"
      },
      "source": [
        "# train the model\n",
        "def build_model(train, n_input, n_out):\n",
        "\t# prepare data\n",
        "\ttrain_x, train_y = to_supervised(train, n_input, n_out)\n",
        "\t# define parameters\n",
        "\tverbose, epochs, batch_size = 0, 20, 12\n",
        "\tn_timesteps, n_features, n_outputs = train_x.shape[1], train_x.shape[2], train_y.shape[1]\n",
        "\t# reshape output into [samples, timesteps, features]\n",
        "\ttrain_y = train_y.reshape((train_y.shape[0], train_y.shape[1], 1))\n",
        "\t# define model\n",
        "\tmodel = Sequential()\n",
        "\tmodel.add(Conv1D(filters=64, kernel_size=1, activation='relu', input_shape=(n_timesteps,n_features)))\n",
        "\tmodel.add(Conv1D(filters=64, kernel_size=1, activation='relu'))\n",
        "\tmodel.add(MaxPooling1D(pool_size=2))\n",
        "\tmodel.add(Flatten())\n",
        "\tmodel.add(RepeatVector(n_outputs))\n",
        "\tmodel.add(LSTM(200, activation='relu', return_sequences=True))\n",
        "\tmodel.add(TimeDistributed(Dense(100, activation='relu')))\n",
        "\tmodel.add(TimeDistributed(Dense(1)))\n",
        "\tmodel.compile(loss='mse', optimizer='adam')\n",
        "\t# fit network\n",
        "\tmodel.fit(train_x, train_y, epochs=epochs, batch_size=batch_size, verbose=verbose)\n",
        "\treturn model\n"
      ],
      "execution_count": 6,
      "outputs": []
    },
    {
      "cell_type": "code",
      "metadata": {
        "id": "e8knwLv9gNg_"
      },
      "source": [
        "# make a forecast\n",
        "def forecast(model, history, n_input):\n",
        "\t# flatten data\n",
        "\tdata = array(history)\n",
        "\tdata = data.reshape((data.shape[0]*data.shape[1], data.shape[2]))\n",
        "\t# retrieve last observations for input data\n",
        "\tinput_x = data[-n_input:, 0]\n",
        "\t# reshape into [1, n_input, 1]\n",
        "\tinput_x = input_x.reshape((1, len(input_x), 1))\n",
        "\t# forecast the next sequence\n",
        "\tyhat = model.predict(input_x, verbose=0)\n",
        "\t# we only want the vector forecast\n",
        "\tyhat = yhat[0]\n",
        "\treturn yhat"
      ],
      "execution_count": 7,
      "outputs": []
    },
    {
      "cell_type": "code",
      "metadata": {
        "id": "4I9CEVQggPh3"
      },
      "source": [
        "# evaluate a single model\n",
        "def evaluate_model(train, test, n_input, n_out):\n",
        "\t# fit model\n",
        "\tmodel = build_model(train, n_input, n_out)\n",
        "\t# history is a list of data\n",
        "\thistory = [x for x in train]\n",
        "\t# walk-forward validation \n",
        "\tpredictions = list()\n",
        "\tfor i in range(len(test)):\n",
        "\t\t# predict the week\n",
        "\t\tyhat_sequence = forecast(model, history, n_input)\n",
        "\t\t# store the predictions\n",
        "\t\tpredictions.append(yhat_sequence)\n",
        "\t\t# get predicted observation and add to history for predicting the next week\n",
        "\t\thistory.append(yhat_sequence)\n",
        "\t# evaluate predictions days for each week\n",
        "\tpredictions = array(predictions)\n",
        "\tscore, scores = evaluate_forecasts(test[:, :, 0], predictions)\n",
        "\treturn score, scores, predictions"
      ],
      "execution_count": 8,
      "outputs": []
    },
    {
      "cell_type": "markdown",
      "metadata": {
        "id": "GzRds0YMgabd"
      },
      "source": [
        "Read Dataset"
      ]
    },
    {
      "cell_type": "code",
      "metadata": {
        "id": "XBuFLijKgRYB"
      },
      "source": [
        "df = read_csv('/content/RevenueJuly.csv')\n",
        "series = DataFrame(df['Revenue'])\n",
        "data = series.values"
      ],
      "execution_count": 9,
      "outputs": []
    },
    {
      "cell_type": "code",
      "metadata": {
        "id": "jAwcsNW7hLif"
      },
      "source": [
        "partition = 7\n",
        "train, test, train_original, test_original = split_dataset(data, partition)"
      ],
      "execution_count": 10,
      "outputs": []
    },
    {
      "cell_type": "code",
      "metadata": {
        "colab": {
          "base_uri": "https://localhost:8080/"
        },
        "id": "T_hjmSbghUpI",
        "outputId": "5f9fb943-b668-400e-e0ca-30e18e672348"
      },
      "source": [
        "train.shape"
      ],
      "execution_count": 11,
      "outputs": [
        {
          "output_type": "execute_result",
          "data": {
            "text/plain": [
              "(7, 7, 2)"
            ]
          },
          "metadata": {},
          "execution_count": 11
        }
      ]
    },
    {
      "cell_type": "code",
      "metadata": {
        "colab": {
          "base_uri": "https://localhost:8080/"
        },
        "id": "Mkc6ek2jhuan",
        "outputId": "45713c2c-12e5-456c-98e1-894358ed19ef"
      },
      "source": [
        "test.shape"
      ],
      "execution_count": 12,
      "outputs": [
        {
          "output_type": "execute_result",
          "data": {
            "text/plain": [
              "(1, 7, 1)"
            ]
          },
          "metadata": {},
          "execution_count": 12
        }
      ]
    },
    {
      "cell_type": "code",
      "metadata": {
        "colab": {
          "base_uri": "https://localhost:8080/"
        },
        "id": "AodkG_D2nWSE",
        "outputId": "10f68f01-e67f-4c2c-c114-0b88c6e041b6"
      },
      "source": [
        "train_original.shape, test_original.shape"
      ],
      "execution_count": 13,
      "outputs": [
        {
          "output_type": "execute_result",
          "data": {
            "text/plain": [
              "((48, 1), (7, 1))"
            ]
          },
          "metadata": {},
          "execution_count": 13
        }
      ]
    },
    {
      "cell_type": "code",
      "metadata": {
        "colab": {
          "base_uri": "https://localhost:8080/"
        },
        "id": "e34XkR-hhu57",
        "outputId": "829f6543-2f77-4122-ee8c-0b4948b649b1"
      },
      "source": [
        "# evaluate model and get scores\n",
        "n_input = 12\n",
        "n_out = 7\n",
        "score, scores, pred = evaluate_model(train, test, n_input, n_out)\n",
        "# summarize scores\n",
        "summarize_scores('lstm', score, scores)"
      ],
      "execution_count": 14,
      "outputs": [
        {
          "output_type": "stream",
          "text": [
            "lstm: [52955.074] 38239.9, 19542.5, 54099.9, 71188.4, 48226.8, 84324.0, 18829.1\n"
          ],
          "name": "stdout"
        }
      ]
    },
    {
      "cell_type": "code",
      "metadata": {
        "colab": {
          "base_uri": "https://localhost:8080/",
          "height": 265
        },
        "id": "As5mqFHsjGQT",
        "outputId": "f36dfaab-e59b-475c-b5ac-1f042a9d5742"
      },
      "source": [
        "# plot scores\n",
        "month_list = ['Jan', 'Feb', 'Mar', 'Apr', 'May', 'Jun', 'Jul']\n",
        "plt.plot(month_list, scores, marker='o', label='lstm')\n",
        "plt.show()\n"
      ],
      "execution_count": 15,
      "outputs": [
        {
          "output_type": "display_data",
          "data": {
            "image/png": "[encoded data removed]",
            "text/plain": [
              "<Figure size 432x288 with 1 Axes>"
            ]
          },
          "metadata": {
            "needs_background": "light"
          }
        }
      ]
    },
    {
      "cell_type": "markdown",
      "metadata": {
        "id": "gHcGoEkXomPe"
      },
      "source": [
        "convert predicted, train and test values to a list"
      ]
    },
    {
      "cell_type": "code",
      "metadata": {
        "colab": {
          "base_uri": "https://localhost:8080/"
        },
        "id": "OgdlKvUsqBxy",
        "outputId": "901aa1b9-888b-4579-f776-b15c53f8e004"
      },
      "source": [
        "predictions = pred.reshape(-1).tolist()\n",
        "predictions"
      ],
      "execution_count": 16,
      "outputs": [
        {
          "output_type": "execute_result",
          "data": {
            "text/plain": [
              "[54747.1875,\n",
              " 74807.7734375,\n",
              " 78167.703125,\n",
              " 91739.234375,\n",
              " 93984.8203125,\n",
              " 99391.28125,\n",
              " 93054.6796875]"
            ]
          },
          "metadata": {},
          "execution_count": 16
        }
      ]
    },
    {
      "cell_type": "code",
      "metadata": {
        "colab": {
          "base_uri": "https://localhost:8080/"
        },
        "id": "BmF0tNjEkjdB",
        "outputId": "bf971acd-89b9-40db-f420-a1c43265d8fb"
      },
      "source": [
        "test_values_list = test_original.reshape(-1).tolist()\n",
        "test_values_list"
      ],
      "execution_count": 17,
      "outputs": [
        {
          "output_type": "execute_result",
          "data": {
            "text/plain": [
              "[16507.335,\n",
              " 55265.293,\n",
              " 132267.59699999998,\n",
              " 20550.787,\n",
              " 45757.982,\n",
              " 183715.237,\n",
              " 74225.599]"
            ]
          },
          "metadata": {},
          "execution_count": 17
        }
      ]
    },
    {
      "cell_type": "code",
      "metadata": {
        "colab": {
          "base_uri": "https://localhost:8080/"
        },
        "id": "A7zOCgRCsfXt",
        "outputId": "290cb693-e765-451b-8c54-418228427b6f"
      },
      "source": [
        "train_values_list = train_original.reshape(-1).tolist()\n",
        "train_values_list"
      ],
      "execution_count": 18,
      "outputs": [
        {
          "output_type": "execute_result",
          "data": {
            "text/plain": [
              "[11141.566,\n",
              " 11483.52,\n",
              " 89026.192,\n",
              " 7486.732,\n",
              " 17719.978,\n",
              " 159129.659,\n",
              " 16736.302,\n",
              " 25432.066000000003,\n",
              " 145620.785,\n",
              " 24954.743,\n",
              " 42440.280999999995,\n",
              " 389795.30100000004,\n",
              " 10851.367,\n",
              " 15156.59,\n",
              " 92459.405,\n",
              " 18964.488999999998,\n",
              " 27080.474,\n",
              " 156189.554,\n",
              " 22733.732000000004,\n",
              " 19094.521,\n",
              " 119631.54800000001,\n",
              " 21636.455,\n",
              " 64590.779,\n",
              " 303152.06,\n",
              " 12594.348,\n",
              " 24780.076,\n",
              " 116146.579,\n",
              " 32970.437000000005,\n",
              " 48772.3,\n",
              " 285241.25800000003,\n",
              " 27898.502999999997,\n",
              " 51343.677,\n",
              " 244466.379,\n",
              " 34864.443,\n",
              " 73066.245,\n",
              " 724737.205,\n",
              " 16301.221000000001,\n",
              " 19769.781000000003,\n",
              " 119442.079,\n",
              " 18721.319,\n",
              " 30299.276,\n",
              " 226961.657,\n",
              " 25759.943,\n",
              " 35032.793,\n",
              " 147118.56699999998,\n",
              " 43656.223,\n",
              " 54935.815,\n",
              " 519504.737]"
            ]
          },
          "metadata": {},
          "execution_count": 18
        }
      ]
    },
    {
      "cell_type": "code",
      "metadata": {
        "colab": {
          "base_uri": "https://localhost:8080/"
        },
        "id": "eG5ZaKNMnfZZ",
        "outputId": "e542fa98-0bc0-4108-b7d7-63996635ba68"
      },
      "source": [
        "#Evaluate Model using r2_score and RMSE\n",
        "MSE = mean_squared_error(test_values_list, predictions)\n",
        "RMSE = int(sqrt(MSE))\n",
        "R2 = r2_score(test_values_list,predictions)\n",
        "print('RMSE : ' + str(RMSE))\n",
        "print('R square : ' + str(R2))"
      ],
      "execution_count": 19,
      "outputs": [
        {
          "output_type": "stream",
          "text": [
            "RMSE : 52955\n",
            "R square : 0.13633299401439036\n"
          ],
          "name": "stdout"
        }
      ]
    },
    {
      "cell_type": "markdown",
      "metadata": {
        "id": "S80I6J2yrnOg"
      },
      "source": [
        "Add Graph"
      ]
    },
    {
      "cell_type": "code",
      "metadata": {
        "id": "Wi8VktoXrmgE"
      },
      "source": [
        "#set x axis labels\n",
        "vis = dict()\n",
        "\n",
        "x_axis_label = []\n",
        "\n",
        "for cur_year in df['Year']:\n",
        "  if str(cur_year) not in vis.keys():\n",
        "    vis[str(cur_year)] = 1\n",
        "    x_axis_label.append(str(cur_year))\n",
        "  \n",
        "  else:\n",
        "    x_axis_label.append('')\n",
        "  "
      ],
      "execution_count": 20,
      "outputs": []
    },
    {
      "cell_type": "code",
      "metadata": {
        "colab": {
          "base_uri": "https://localhost:8080/"
        },
        "id": "e7_amS71oBen",
        "outputId": "57ab9ad0-da35-44e8-accb-e34a5ac10433"
      },
      "source": [
        "x_axis_label"
      ],
      "execution_count": 21,
      "outputs": [
        {
          "output_type": "execute_result",
          "data": {
            "text/plain": [
              "['2017',\n",
              " '',\n",
              " '',\n",
              " '',\n",
              " '',\n",
              " '',\n",
              " '',\n",
              " '',\n",
              " '',\n",
              " '',\n",
              " '',\n",
              " '',\n",
              " '2018',\n",
              " '',\n",
              " '',\n",
              " '',\n",
              " '',\n",
              " '',\n",
              " '',\n",
              " '',\n",
              " '',\n",
              " '',\n",
              " '',\n",
              " '',\n",
              " '2019',\n",
              " '',\n",
              " '',\n",
              " '',\n",
              " '',\n",
              " '',\n",
              " '',\n",
              " '',\n",
              " '',\n",
              " '',\n",
              " '',\n",
              " '',\n",
              " '2020',\n",
              " '',\n",
              " '',\n",
              " '',\n",
              " '',\n",
              " '',\n",
              " '',\n",
              " '',\n",
              " '',\n",
              " '',\n",
              " '',\n",
              " '',\n",
              " '2021',\n",
              " '',\n",
              " '',\n",
              " '',\n",
              " '',\n",
              " '',\n",
              " '']"
            ]
          },
          "metadata": {},
          "execution_count": 21
        }
      ]
    },
    {
      "cell_type": "markdown",
      "metadata": {
        "id": "rLaLUP1brvVw"
      },
      "source": [
        "Specify dates"
      ]
    },
    {
      "cell_type": "code",
      "metadata": {
        "colab": {
          "base_uri": "https://localhost:8080/"
        },
        "id": "P5PJ5Tu0rqtb",
        "outputId": "1b953452-8957-443b-fa1e-b67559317b21"
      },
      "source": [
        "dates_train = []\n",
        "for i in range(len(df)-partition):\n",
        "  dates_train.append( str(df['Year'][i]) + \"-\" + str(df['Month'][i]) )\n",
        "\n",
        "dates_train"
      ],
      "execution_count": 22,
      "outputs": [
        {
          "output_type": "execute_result",
          "data": {
            "text/plain": [
              "['2017-1',\n",
              " '2017-2',\n",
              " '2017-3',\n",
              " '2017-4',\n",
              " '2017-5',\n",
              " '2017-6',\n",
              " '2017-7',\n",
              " '2017-8',\n",
              " '2017-9',\n",
              " '2017-10',\n",
              " '2017-11',\n",
              " '2017-12',\n",
              " '2018-1',\n",
              " '2018-2',\n",
              " '2018-3',\n",
              " '2018-4',\n",
              " '2018-5',\n",
              " '2018-6',\n",
              " '2018-7',\n",
              " '2018-8',\n",
              " '2018-9',\n",
              " '2018-10',\n",
              " '2018-11',\n",
              " '2018-12',\n",
              " '2019-1',\n",
              " '2019-2',\n",
              " '2019-3',\n",
              " '2019-4',\n",
              " '2019-5',\n",
              " '2019-6',\n",
              " '2019-7',\n",
              " '2019-8',\n",
              " '2019-9',\n",
              " '2019-10',\n",
              " '2019-11',\n",
              " '2019-12',\n",
              " '2020-1',\n",
              " '2020-2',\n",
              " '2020-3',\n",
              " '2020-4',\n",
              " '2020-5',\n",
              " '2020-6',\n",
              " '2020-7',\n",
              " '2020-8',\n",
              " '2020-9',\n",
              " '2020-10',\n",
              " '2020-11',\n",
              " '2020-12']"
            ]
          },
          "metadata": {},
          "execution_count": 22
        }
      ]
    },
    {
      "cell_type": "code",
      "metadata": {
        "colab": {
          "base_uri": "https://localhost:8080/"
        },
        "id": "v7N6JAmbrqo4",
        "outputId": "e5672255-932d-49b7-c567-d4d9fa8cd58f"
      },
      "source": [
        "dates_test = []\n",
        "for i in range(len(df)-partition , len(df)):\n",
        "  dates_test.append( str(df['Year'][i]) + \"-\" + str(df['Month'][i]) )\n",
        "\n",
        "dates_test"
      ],
      "execution_count": 23,
      "outputs": [
        {
          "output_type": "execute_result",
          "data": {
            "text/plain": [
              "['2021-1', '2021-2', '2021-3', '2021-4', '2021-5', '2021-6', '2021-7']"
            ]
          },
          "metadata": {},
          "execution_count": 23
        }
      ]
    },
    {
      "cell_type": "markdown",
      "metadata": {
        "id": "2INTJqVfr2g_"
      },
      "source": [
        "Compute Confidence/Prediction Interval"
      ]
    },
    {
      "cell_type": "code",
      "metadata": {
        "id": "u80I4MZFrqkr"
      },
      "source": [
        "x_bar = array(test_values_list).mean()"
      ],
      "execution_count": 24,
      "outputs": []
    },
    {
      "cell_type": "code",
      "metadata": {
        "id": "_eq2kNjur1tP"
      },
      "source": [
        "sum = 0\n",
        "for i in range(partition):\n",
        "  t = (test_values_list[i]-x_bar)**2\n",
        "  sum = sum + t"
      ],
      "execution_count": 25,
      "outputs": []
    },
    {
      "cell_type": "code",
      "metadata": {
        "id": "wINUfEMqr1q9"
      },
      "source": [
        "def compute_std_error(xh):\n",
        "  temp1 = 1.0 + (1.0/partition) \n",
        "  temp2 = float((xh - x_bar)**2) / sum\n",
        "  return sqrt(MSE * (temp1+temp2))"
      ],
      "execution_count": 26,
      "outputs": []
    },
    {
      "cell_type": "code",
      "metadata": {
        "id": "BLah_OL5r1pl"
      },
      "source": [
        "confidence_upper = []\n",
        "confidence_lower = []\n",
        "t_multiplier = 2.228"
      ],
      "execution_count": 27,
      "outputs": []
    },
    {
      "cell_type": "code",
      "metadata": {
        "id": "Yt3xpoeWr1n7"
      },
      "source": [
        "for i in range(partition):\n",
        "  std_error = compute_std_error(test_values_list[i])\n",
        "  val = t_multiplier * std_error\n",
        "  confidence_upper.append(predictions[i] + val)\n",
        "  temp = predictions[i] - val\n",
        "  confidence_lower.append(max(temp,0))"
      ],
      "execution_count": 28,
      "outputs": []
    },
    {
      "cell_type": "code",
      "metadata": {
        "colab": {
          "base_uri": "https://localhost:8080/"
        },
        "id": "8lVnNvOAsOY-",
        "outputId": "0ceb9fe0-0e7e-4f68-cbc1-41b799a3bcc3"
      },
      "source": [
        "confidence_upper"
      ],
      "execution_count": 29,
      "outputs": [
        {
          "output_type": "execute_result",
          "data": {
            "text/plain": [
              "[189053.11321690926,\n",
              " 201925.1505329872,\n",
              " 211900.9624820984,\n",
              " 224991.09411288062,\n",
              " 222240.3675125467,\n",
              " 251328.88223629814,\n",
              " 219188.5424888612]"
            ]
          },
          "metadata": {},
          "execution_count": 29
        }
      ]
    },
    {
      "cell_type": "markdown",
      "metadata": {
        "id": "3qs1D2DTsSvE"
      },
      "source": [
        "Plot Graph"
      ]
    },
    {
      "cell_type": "code",
      "metadata": {
        "colab": {
          "base_uri": "https://localhost:8080/",
          "height": 428
        },
        "id": "2Ur8jx9WsUUl",
        "outputId": "5935b741-2765-48a4-b712-f73263071fc9"
      },
      "source": [
        "plt.figure(figsize=(20,7))\n",
        "plt.plot(dates_train, train_values_list, color='darkorange', label=\"Train\")\n",
        "plt.plot(dates_test, test_values_list, color='red', label=\"Test\")\n",
        "plt.plot(dates_test, predictions, color='blue', label=\"Predicted\")\n",
        "plt.legend(loc=\"upper left\")\n",
        "plt.fill_between(dates_test, confidence_upper, confidence_lower, alpha=0.2)\n",
        "plt.xticks(np.arange(len(x_axis_label)), x_axis_label)\n",
        "\n",
        "plt.show()"
      ],
      "execution_count": 30,
      "outputs": [
        {
          "output_type": "display_data",
          "data": {
            "image/png": "[encoded data removed]",
            "text/plain": [
              "<Figure size 1440x504 with 1 Axes>"
            ]
          },
          "metadata": {
            "needs_background": "light"
          }
        }
      ]
    },
    {
      "cell_type": "code",
      "metadata": {
        "id": "FixfTBHEtA8s"
      },
      "source": [
        ""
      ],
      "execution_count": 30,
      "outputs": []
    }
  ]
}